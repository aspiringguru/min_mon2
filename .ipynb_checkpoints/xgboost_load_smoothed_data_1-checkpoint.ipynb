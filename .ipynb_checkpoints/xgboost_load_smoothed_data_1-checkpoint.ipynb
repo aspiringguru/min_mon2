{
 "cells": [
  {
   "cell_type": "code",
   "execution_count": 1,
   "metadata": {},
   "outputs": [
    {
     "name": "stderr",
     "output_type": "stream",
     "text": [
      "D:\\DProgramFiles\\python3Anaconda\\lib\\site-packages\\sklearn\\cross_validation.py:41: DeprecationWarning: This module was deprecated in version 0.18 in favor of the model_selection module into which all the refactored classes and functions are moved. Also note that the interface of the new CV iterators are different from that of this module. This module will be removed in 0.20.\n",
      "  \"This module will be removed in 0.20.\", DeprecationWarning)\n"
     ]
    }
   ],
   "source": [
    "from numpy import loadtxt\n",
    "import numpy as np\n",
    "import pandas as pd\n",
    "from xgboost import XGBClassifier\n",
    "from xgboost import XGBRegressor\n",
    "from sklearn.model_selection import train_test_split\n",
    "from sklearn.metrics import accuracy_score #not used?\n",
    "from sklearn.metrics import mean_squared_error\n",
    "from sklearn.preprocessing import MinMaxScaler\n",
    "import datetime\n",
    "import os\n",
    "\n",
    "import matplotlib.pylab as plt\n",
    "\n",
    "%matplotlib inline"
   ]
  },
  {
   "cell_type": "code",
   "execution_count": 2,
   "metadata": {
    "collapsed": true
   },
   "outputs": [],
   "source": [
    "DATA_DIR = \"D:/2017_working/unearthed/output/\"\n",
    "INPUT_DATA_DIR = \"D:/2017_working/unearthed/\"\n",
    "\n",
    "TARGET = \"target\"\n",
    "NORM_TARGET = \"norm_target\"\n",
    "UNAMED = \"Unnamed: 0\"\n",
    "TIMESTAMP = \"timestamp\"\n",
    "PREDICTED = 'predicted'"
   ]
  },
  {
   "cell_type": "code",
   "execution_count": 3,
   "metadata": {},
   "outputs": [
    {
     "name": "stdout",
     "output_type": "stream",
     "text": [
      "<class 'pandas.core.frame.DataFrame'> (114060, 25)\n"
     ]
    }
   ],
   "source": [
    "df = pd.read_csv(INPUT_DATA_DIR+'train_smoothed_5.csv')\n",
    "print (type(df), df.shape)"
   ]
  },
  {
   "cell_type": "code",
   "execution_count": 4,
   "metadata": {
    "collapsed": true
   },
   "outputs": [],
   "source": [
    "colnames = list(df)"
   ]
  },
  {
   "cell_type": "code",
   "execution_count": 5,
   "metadata": {},
   "outputs": [
    {
     "name": "stdout",
     "output_type": "stream",
     "text": [
      "dropping column  Unnamed: 0\n"
     ]
    }
   ],
   "source": [
    "if colnames[0]==UNAMED:\n",
    "    print (\"dropping column \", UNAMED)\n",
    "    df.drop(labels=UNAMED, axis=1, inplace=True)\n",
    "    colnames.remove(UNAMED)\n",
    "else:\n",
    "    print (\"Column \",UNAMED, \" does not exist.\")"
   ]
  },
  {
   "cell_type": "code",
   "execution_count": 6,
   "metadata": {},
   "outputs": [
    {
     "data": {
      "text/plain": [
       "timestamp           object\n",
       "WQI8100XCL1.CPV    float64\n",
       "XI84201.PV         float64\n",
       "XI84202.PV         float64\n",
       "XI84123.PV         float64\n",
       "XI84124.PV         float64\n",
       "XI84125.PV         float64\n",
       "FX87211.CPV1       float64\n",
       "FIC87211.PV        float64\n",
       "FIC87211.SV        float64\n",
       "FX87211.P01        float64\n",
       "FI87208.PV         float64\n",
       "AIC88049.PV        float64\n",
       "ZI88001.PV         float64\n",
       "NIC88002.PV        float64\n",
       "PIC88007.PV        float64\n",
       "LIC88006.PV        float64\n",
       "AIC88055.PV        float64\n",
       "FIC88022.PV        float64\n",
       "DIC88023.PV        float64\n",
       "SI88033.PV         float64\n",
       "SI88034.PV         float64\n",
       "MQI88024.CPV       float64\n",
       "target             float64\n",
       "dtype: object"
      ]
     },
     "execution_count": 6,
     "metadata": {},
     "output_type": "execute_result"
    }
   ],
   "source": [
    "df.dtypes"
   ]
  },
  {
   "cell_type": "code",
   "execution_count": 7,
   "metadata": {
    "collapsed": true
   },
   "outputs": [],
   "source": [
    "#convert df[TIMESTAMP] from string to datetime\n",
    "df[TIMESTAMP] = pd.to_datetime(df[TIMESTAMP])"
   ]
  },
  {
   "cell_type": "code",
   "execution_count": 8,
   "metadata": {},
   "outputs": [
    {
     "name": "stdout",
     "output_type": "stream",
     "text": [
      "<class 'pandas._libs.tslib.Timestamp'> 2015-04-01 00:00:00\n"
     ]
    }
   ],
   "source": [
    "print (type(df[TIMESTAMP].iloc[0]), df[TIMESTAMP].iloc[0])\n"
   ]
  },
  {
   "cell_type": "code",
   "execution_count": 9,
   "metadata": {},
   "outputs": [
    {
     "name": "stdout",
     "output_type": "stream",
     "text": [
      "2015-04-01 00:00:00 datetime64[ns] <class 'pandas._libs.tslib.Timestamp'>\n",
      "time_step(in seconds): 0 days 00:05:00 <class 'pandas._libs.tslib.Timedelta'>\n",
      "time_start = df[TIMESTAMP][0] <class 'pandas._libs.tslib.Timestamp'> 2015-04-01 00:00:00\n"
     ]
    }
   ],
   "source": [
    "print (df[TIMESTAMP].iloc[0], df[TIMESTAMP].dtypes, type(df[TIMESTAMP].iloc[0]))\n",
    "\n",
    "time_step = (df[TIMESTAMP].iloc[1]-df[TIMESTAMP].iloc[0])\n",
    "print (\"time_step(in seconds):\", time_step, type(time_step))\n",
    "time_start = df[TIMESTAMP].iloc[0]\n",
    "\n",
    "print (\"time_start = df[TIMESTAMP][0]\", type(df[TIMESTAMP].iloc[0]), df[TIMESTAMP].iloc[0])"
   ]
  },
  {
   "cell_type": "code",
   "execution_count": 10,
   "metadata": {},
   "outputs": [
    {
     "name": "stdout",
     "output_type": "stream",
     "text": [
      "converting df[TIMESTAMP] to int\n",
      "converting df[TIMESTAMP] to int: completed.\n"
     ]
    }
   ],
   "source": [
    "#convert datetime to int \n",
    "#convert datetime to int since XGBoost does not handle datetime\n",
    "#NB: df[TIMESTAMP][0] is set to zero with subsequent values = zero + seconds.\n",
    "print (\"converting df[TIMESTAMP] to int\")\n",
    "timestampNew = \"timestamp_\"\n",
    "df[timestampNew] = df.apply(lambda x: int((x[TIMESTAMP] - time_start).total_seconds()), axis=1)\n",
    "print (\"converting df[TIMESTAMP] to int: completed.\")\n",
    "df.drop(labels=TIMESTAMP, axis=1, inplace=True)\n",
    "df.rename(index=str, columns={timestampNew: TIMESTAMP}, inplace=True)"
   ]
  },
  {
   "cell_type": "code",
   "execution_count": 11,
   "metadata": {},
   "outputs": [
    {
     "data": {
      "text/plain": [
       "(dtype('int64'), pandas.core.series.Series, 0, 300)"
      ]
     },
     "execution_count": 11,
     "metadata": {},
     "output_type": "execute_result"
    }
   ],
   "source": [
    "df[TIMESTAMP].dtypes, type(df[TIMESTAMP]), df[TIMESTAMP].iloc[0], df[TIMESTAMP].iloc[1]"
   ]
  },
  {
   "cell_type": "code",
   "execution_count": 12,
   "metadata": {},
   "outputs": [
    {
     "name": "stdout",
     "output_type": "stream",
     "text": [
      "null_count:\n",
      " WQI8100XCL1.CPV    0\n",
      "XI84201.PV         0\n",
      "XI84202.PV         0\n",
      "XI84123.PV         0\n",
      "XI84124.PV         0\n",
      "XI84125.PV         0\n",
      "FX87211.CPV1       0\n",
      "FIC87211.PV        0\n",
      "FIC87211.SV        0\n",
      "FX87211.P01        0\n",
      "FI87208.PV         0\n",
      "AIC88049.PV        0\n",
      "ZI88001.PV         0\n",
      "NIC88002.PV        0\n",
      "PIC88007.PV        0\n",
      "LIC88006.PV        0\n",
      "AIC88055.PV        0\n",
      "FIC88022.PV        0\n",
      "DIC88023.PV        0\n",
      "SI88033.PV         0\n",
      "SI88034.PV         0\n",
      "MQI88024.CPV       0\n",
      "target             0\n",
      "timestamp          0\n",
      "dtype: int64\n",
      "total nulls: 0\n"
     ]
    }
   ],
   "source": [
    "null_count = df.isnull().sum()\n",
    "print (\"null_count:\\n\", null_count)\n",
    "print (\"total nulls:\", null_count.sum())\n",
    "#this is the problem - null values in every column.Need to fill or delete the nulls.\n",
    "#https://pandas.pydata.org/pandas-docs/stable/missing_data.html"
   ]
  },
  {
   "cell_type": "code",
   "execution_count": 13,
   "metadata": {},
   "outputs": [
    {
     "data": {
      "text/plain": [
       "(list,\n",
       " ['timestamp',\n",
       "  'WQI8100XCL1.CPV',\n",
       "  'XI84201.PV',\n",
       "  'XI84202.PV',\n",
       "  'XI84123.PV',\n",
       "  'XI84124.PV',\n",
       "  'XI84125.PV',\n",
       "  'FX87211.CPV1',\n",
       "  'FIC87211.PV',\n",
       "  'FIC87211.SV',\n",
       "  'FX87211.P01',\n",
       "  'FI87208.PV',\n",
       "  'AIC88049.PV',\n",
       "  'ZI88001.PV',\n",
       "  'NIC88002.PV',\n",
       "  'PIC88007.PV',\n",
       "  'LIC88006.PV',\n",
       "  'AIC88055.PV',\n",
       "  'FIC88022.PV',\n",
       "  'DIC88023.PV',\n",
       "  'SI88033.PV',\n",
       "  'SI88034.PV',\n",
       "  'MQI88024.CPV',\n",
       "  'target'])"
      ]
     },
     "execution_count": 13,
     "metadata": {},
     "output_type": "execute_result"
    }
   ],
   "source": [
    "type(colnames), colnames"
   ]
  },
  {
   "cell_type": "code",
   "execution_count": 14,
   "metadata": {},
   "outputs": [
    {
     "name": "stdout",
     "output_type": "stream",
     "text": [
      "colname: WQI8100XCL1.CPV Min: -288.991680, Max: 1022.917700 , shape (114060,)\n",
      "scalars[ WQI8100XCL1.CPV ].data_min_: [-288.99168] scalars[ WQI8100XCL1.CPV ].data_max_ [ 1022.9177]\n",
      "colname: XI84201.PV Min: 0.000000, Max: 577.085800 , shape (114060,)\n",
      "scalars[ XI84201.PV ].data_min_: [ 0.] scalars[ XI84201.PV ].data_max_ [ 577.0858]\n",
      "colname: XI84202.PV Min: 0.000000, Max: 100.000000 , shape (114060,)\n",
      "scalars[ XI84202.PV ].data_min_: [ 0.] scalars[ XI84202.PV ].data_max_ [ 100.]\n",
      "colname: XI84123.PV Min: 0.000000, Max: 0.200000 , shape (114060,)\n",
      "scalars[ XI84123.PV ].data_min_: [ 0.] scalars[ XI84123.PV ].data_max_ [ 0.2]\n",
      "colname: XI84124.PV Min: 0.000000, Max: 15.659720 , shape (114060,)\n",
      "scalars[ XI84124.PV ].data_min_: [ 0.] scalars[ XI84124.PV ].data_max_ [ 15.65972]\n",
      "colname: XI84125.PV Min: 0.000000, Max: 51.193700 , shape (114060,)\n",
      "scalars[ XI84125.PV ].data_min_: [ 0.] scalars[ XI84125.PV ].data_max_ [ 51.1937]\n",
      "colname: FX87211.CPV1 Min: -281.612800, Max: 1015.010020 , shape (114060,)\n",
      "scalars[ FX87211.CPV1 ].data_min_: [-281.6128] scalars[ FX87211.CPV1 ].data_max_ [ 1015.01002]\n",
      "colname: FIC87211.PV Min: -140.169220, Max: 15549.590000 , shape (114060,)\n",
      "scalars[ FIC87211.PV ].data_min_: [-140.16922] scalars[ FIC87211.PV ].data_max_ [ 15549.59]\n",
      "colname: FIC87211.SV Min: 0.000000, Max: 14000.000000 , shape (114060,)\n",
      "scalars[ FIC87211.SV ].data_min_: [ 0.] scalars[ FIC87211.SV ].data_max_ [ 14000.]\n",
      "colname: FX87211.P01 Min: 15.000000, Max: 35.000000 , shape (114060,)\n",
      "scalars[ FX87211.P01 ].data_min_: [ 15.] scalars[ FX87211.P01 ].data_max_ [ 35.]\n",
      "colname: FI87208.PV Min: -5.348143, Max: 135.893840 , shape (114060,)\n",
      "scalars[ FI87208.PV ].data_min_: [-5.34814303] scalars[ FI87208.PV ].data_max_ [ 135.89384]\n",
      "colname: AIC88049.PV Min: 0.000000, Max: 12.410110 , shape (114060,)\n",
      "scalars[ AIC88049.PV ].data_min_: [ 0.] scalars[ AIC88049.PV ].data_max_ [ 12.41011]\n",
      "colname: ZI88001.PV Min: -0.022272, Max: 101.302800 , shape (114060,)\n",
      "scalars[ ZI88001.PV ].data_min_: [-0.0222716] scalars[ ZI88001.PV ].data_max_ [ 101.3028]\n",
      "colname: NIC88002.PV Min: -0.227333, Max: 57.723780 , shape (114060,)\n",
      "scalars[ NIC88002.PV ].data_min_: [-0.22733304] scalars[ NIC88002.PV ].data_max_ [ 57.72378]\n",
      "colname: PIC88007.PV Min: -0.660596, Max: 36.071720 , shape (114060,)\n",
      "scalars[ PIC88007.PV ].data_min_: [-0.66059572] scalars[ PIC88007.PV ].data_max_ [ 36.07172]\n",
      "colname: LIC88006.PV Min: 0.103844, Max: 100.010024 , shape (114060,)\n",
      "scalars[ LIC88006.PV ].data_min_: [ 0.103844] scalars[ LIC88006.PV ].data_max_ [ 100.010024]\n",
      "colname: AIC88055.PV Min: -0.185481, Max: 64.983184 , shape (114060,)\n",
      "scalars[ AIC88055.PV ].data_min_: [-0.18548116] scalars[ AIC88055.PV ].data_max_ [ 64.983184]\n",
      "colname: FIC88022.PV Min: -3.284477, Max: 1300.851000 , shape (114060,)\n",
      "scalars[ FIC88022.PV ].data_min_: [-3.28447706] scalars[ FIC88022.PV ].data_max_ [ 1300.851]\n",
      "colname: DIC88023.PV Min: -1.073303, Max: 77.728380 , shape (114060,)\n",
      "scalars[ DIC88023.PV ].data_min_: [-1.0733026] scalars[ DIC88023.PV ].data_max_ [ 77.72838]\n",
      "colname: SI88033.PV Min: -0.012358, Max: 99.593930 , shape (114060,)\n",
      "scalars[ SI88033.PV ].data_min_: [-0.01235845] scalars[ SI88033.PV ].data_max_ [ 99.59393]\n",
      "colname: SI88034.PV Min: -0.002242, Max: 98.151914 , shape (114060,)\n",
      "scalars[ SI88034.PV ].data_min_: [-0.00224171] scalars[ SI88034.PV ].data_max_ [ 98.151914]\n",
      "colname: MQI88024.CPV Min: -6.545687, Max: 1362.077400 , shape (114060,)\n",
      "scalars[ MQI88024.CPV ].data_min_: [-6.545687] scalars[ MQI88024.CPV ].data_max_ [ 1362.0774]\n",
      "colname: target Min: -1.073303, Max: 77.728380 , shape (114060,)\n",
      "scalars[ target ].data_min_: [-1.0733026] scalars[ target ].data_max_ [ 77.72838]\n"
     ]
    }
   ],
   "source": [
    "scalars = {}\n",
    "type(scalars)\n",
    "for colname in colnames[1:]:\n",
    "    scaler = MinMaxScaler(feature_range=(0, 1))\n",
    "    scaler = scaler.fit(df[colname].values.reshape(-1, 1))\n",
    "    print(\"colname:\", colname, 'Min: %f, Max: %f' % (scaler.data_min_, scaler.data_max_), \", shape\", df[colname].shape)\n",
    "    df[colname+\"_norm_5\"] = scaler.transform(df[colname].values.reshape(-1, 1))\n",
    "    scalars[colname] = scaler\n",
    "    print (\"scalars[\", colname, \"].data_min_:\", scalars[colname].data_min_, \n",
    "           \"scalars[\", colname, \"].data_max_\", scalars[colname].data_max_)\n"
   ]
  },
  {
   "cell_type": "code",
   "execution_count": 15,
   "metadata": {},
   "outputs": [
    {
     "data": {
      "text/plain": [
       "['WQI8100XCL1.CPV',\n",
       " 'XI84201.PV',\n",
       " 'XI84202.PV',\n",
       " 'XI84123.PV',\n",
       " 'XI84124.PV',\n",
       " 'XI84125.PV',\n",
       " 'FX87211.CPV1',\n",
       " 'FIC87211.PV',\n",
       " 'FIC87211.SV',\n",
       " 'FX87211.P01',\n",
       " 'FI87208.PV',\n",
       " 'AIC88049.PV',\n",
       " 'ZI88001.PV',\n",
       " 'NIC88002.PV',\n",
       " 'PIC88007.PV',\n",
       " 'LIC88006.PV',\n",
       " 'AIC88055.PV',\n",
       " 'FIC88022.PV',\n",
       " 'DIC88023.PV',\n",
       " 'SI88033.PV',\n",
       " 'SI88034.PV',\n",
       " 'MQI88024.CPV',\n",
       " 'target',\n",
       " 'timestamp',\n",
       " 'WQI8100XCL1.CPV_norm_5',\n",
       " 'XI84201.PV_norm_5',\n",
       " 'XI84202.PV_norm_5',\n",
       " 'XI84123.PV_norm_5',\n",
       " 'XI84124.PV_norm_5',\n",
       " 'XI84125.PV_norm_5',\n",
       " 'FX87211.CPV1_norm_5',\n",
       " 'FIC87211.PV_norm_5',\n",
       " 'FIC87211.SV_norm_5',\n",
       " 'FX87211.P01_norm_5',\n",
       " 'FI87208.PV_norm_5',\n",
       " 'AIC88049.PV_norm_5',\n",
       " 'ZI88001.PV_norm_5',\n",
       " 'NIC88002.PV_norm_5',\n",
       " 'PIC88007.PV_norm_5',\n",
       " 'LIC88006.PV_norm_5',\n",
       " 'AIC88055.PV_norm_5',\n",
       " 'FIC88022.PV_norm_5',\n",
       " 'DIC88023.PV_norm_5',\n",
       " 'SI88033.PV_norm_5',\n",
       " 'SI88034.PV_norm_5',\n",
       " 'MQI88024.CPV_norm_5',\n",
       " 'target_norm_5']"
      ]
     },
     "execution_count": 15,
     "metadata": {},
     "output_type": "execute_result"
    }
   ],
   "source": [
    "list(df)"
   ]
  },
  {
   "cell_type": "code",
   "execution_count": 16,
   "metadata": {},
   "outputs": [
    {
     "name": "stdout",
     "output_type": "stream",
     "text": [
      "dropping column  WQI8100XCL1.CPV\n",
      "dropping column  XI84201.PV\n",
      "dropping column  XI84202.PV\n",
      "dropping column  XI84123.PV\n",
      "dropping column  XI84124.PV\n",
      "dropping column  XI84125.PV\n",
      "dropping column  FX87211.CPV1\n",
      "dropping column  FIC87211.PV\n",
      "dropping column  FIC87211.SV\n",
      "dropping column  FX87211.P01\n",
      "dropping column  FI87208.PV\n",
      "dropping column  AIC88049.PV\n",
      "dropping column  ZI88001.PV\n",
      "dropping column  NIC88002.PV\n",
      "dropping column  PIC88007.PV\n",
      "dropping column  LIC88006.PV\n",
      "dropping column  AIC88055.PV\n",
      "dropping column  FIC88022.PV\n",
      "dropping column  DIC88023.PV\n",
      "dropping column  SI88033.PV\n",
      "dropping column  SI88034.PV\n",
      "dropping column  MQI88024.CPV\n",
      "dropping column  target\n"
     ]
    }
   ],
   "source": [
    "#delete original columnnames from df while keeping timestamp column.\n",
    "for colname in colnames[1:]:\n",
    "    print (\"dropping column \", colname)\n",
    "    df.drop(labels=colname, axis=1, inplace=True)\n",
    "    "
   ]
  },
  {
   "cell_type": "code",
   "execution_count": 17,
   "metadata": {},
   "outputs": [
    {
     "data": {
      "text/plain": [
       "['WQI8100XCL1.CPV_norm_5',\n",
       " 'XI84201.PV_norm_5',\n",
       " 'XI84202.PV_norm_5',\n",
       " 'XI84123.PV_norm_5',\n",
       " 'XI84124.PV_norm_5',\n",
       " 'XI84125.PV_norm_5',\n",
       " 'FX87211.CPV1_norm_5',\n",
       " 'FIC87211.PV_norm_5',\n",
       " 'FIC87211.SV_norm_5',\n",
       " 'FX87211.P01_norm_5',\n",
       " 'FI87208.PV_norm_5',\n",
       " 'AIC88049.PV_norm_5',\n",
       " 'ZI88001.PV_norm_5',\n",
       " 'NIC88002.PV_norm_5',\n",
       " 'PIC88007.PV_norm_5',\n",
       " 'LIC88006.PV_norm_5',\n",
       " 'AIC88055.PV_norm_5',\n",
       " 'FIC88022.PV_norm_5',\n",
       " 'DIC88023.PV_norm_5',\n",
       " 'SI88033.PV_norm_5',\n",
       " 'SI88034.PV_norm_5',\n",
       " 'MQI88024.CPV_norm_5']"
      ]
     },
     "execution_count": 17,
     "metadata": {},
     "output_type": "execute_result"
    }
   ],
   "source": [
    "normalised_input_colnames = list(df)[1:-1]\n",
    "normalised_input_colnames"
   ]
  },
  {
   "cell_type": "code",
   "execution_count": 18,
   "metadata": {},
   "outputs": [
    {
     "name": "stdout",
     "output_type": "stream",
     "text": [
      "(114060, 23) 23\n",
      "mins: <class 'pandas.core.series.Series'> (23,)\n",
      "maxes: <class 'pandas.core.series.Series'> (23,)\n",
      "means: <class 'pandas.core.series.Series'> (23,)\n",
      "std: <class 'pandas.core.series.Series'> (23,)\n"
     ]
    }
   ],
   "source": [
    "#now plot candlestick showing max, min, mean, mean + std-dev, mean - std-dev \n",
    "print (df.loc[:, df.columns != TIMESTAMP].shape, df.loc[:, df.columns != TIMESTAMP].shape[1])\n",
    "mins  = df.loc[:, df.columns != TIMESTAMP].min(0)\n",
    "maxes = df.loc[:, df.columns != TIMESTAMP].max(0)\n",
    "means = df.loc[:, df.columns != TIMESTAMP].mean(0)\n",
    "std   = df.loc[:, df.columns != TIMESTAMP].std(0)\n",
    "print (\"mins:\", type(mins), mins.shape)\n",
    "print (\"maxes:\", type(maxes), maxes.shape)\n",
    "print (\"means:\", type(maxes), maxes.shape)\n",
    "print (\"std:\", type(std), std.shape)"
   ]
  },
  {
   "cell_type": "code",
   "execution_count": 19,
   "metadata": {},
   "outputs": [
    {
     "name": "stdout",
     "output_type": "stream",
     "text": [
      "mins:\n",
      " WQI8100XCL1.CPV_norm_5    0.0\n",
      "XI84201.PV_norm_5         0.0\n",
      "XI84202.PV_norm_5         0.0\n",
      "XI84123.PV_norm_5         0.0\n",
      "XI84124.PV_norm_5         0.0\n",
      "XI84125.PV_norm_5         0.0\n",
      "FX87211.CPV1_norm_5       0.0\n",
      "FIC87211.PV_norm_5        0.0\n",
      "FIC87211.SV_norm_5        0.0\n",
      "FX87211.P01_norm_5        0.0\n",
      "FI87208.PV_norm_5         0.0\n",
      "AIC88049.PV_norm_5        0.0\n",
      "ZI88001.PV_norm_5         0.0\n",
      "NIC88002.PV_norm_5        0.0\n",
      "PIC88007.PV_norm_5        0.0\n",
      "LIC88006.PV_norm_5        0.0\n",
      "AIC88055.PV_norm_5        0.0\n",
      "FIC88022.PV_norm_5        0.0\n",
      "DIC88023.PV_norm_5        0.0\n",
      "SI88033.PV_norm_5         0.0\n",
      "SI88034.PV_norm_5         0.0\n",
      "MQI88024.CPV_norm_5       0.0\n",
      "target_norm_5             0.0\n",
      "dtype: float64 <class 'numpy.float64'>\n",
      "\n",
      "maxes:\n",
      " WQI8100XCL1.CPV_norm_5    1.0\n",
      "XI84201.PV_norm_5         1.0\n",
      "XI84202.PV_norm_5         1.0\n",
      "XI84123.PV_norm_5         1.0\n",
      "XI84124.PV_norm_5         1.0\n",
      "XI84125.PV_norm_5         1.0\n",
      "FX87211.CPV1_norm_5       1.0\n",
      "FIC87211.PV_norm_5        1.0\n",
      "FIC87211.SV_norm_5        1.0\n",
      "FX87211.P01_norm_5        1.0\n",
      "FI87208.PV_norm_5         1.0\n",
      "AIC88049.PV_norm_5        1.0\n",
      "ZI88001.PV_norm_5         1.0\n",
      "NIC88002.PV_norm_5        1.0\n",
      "PIC88007.PV_norm_5        1.0\n",
      "LIC88006.PV_norm_5        1.0\n",
      "AIC88055.PV_norm_5        1.0\n",
      "FIC88022.PV_norm_5        1.0\n",
      "DIC88023.PV_norm_5        1.0\n",
      "SI88033.PV_norm_5         1.0\n",
      "SI88034.PV_norm_5         1.0\n",
      "MQI88024.CPV_norm_5       1.0\n",
      "target_norm_5             1.0\n",
      "dtype: float64 <class 'numpy.float64'>\n",
      "\n",
      "means:\n",
      " WQI8100XCL1.CPV_norm_5    0.755461\n",
      "XI84201.PV_norm_5         0.182108\n",
      "XI84202.PV_norm_5         0.788550\n",
      "XI84123.PV_norm_5         0.231344\n",
      "XI84124.PV_norm_5         0.301316\n",
      "XI84125.PV_norm_5         0.465212\n",
      "FX87211.CPV1_norm_5       0.758376\n",
      "FIC87211.PV_norm_5        0.270148\n",
      "FIC87211.SV_norm_5        0.311951\n",
      "FX87211.P01_norm_5        0.302809\n",
      "FI87208.PV_norm_5         0.283309\n",
      "AIC88049.PV_norm_5        0.721541\n",
      "ZI88001.PV_norm_5         0.012482\n",
      "NIC88002.PV_norm_5        0.432193\n",
      "PIC88007.PV_norm_5        0.249273\n",
      "LIC88006.PV_norm_5        0.590861\n",
      "AIC88055.PV_norm_5        0.551108\n",
      "FIC88022.PV_norm_5        0.637762\n",
      "DIC88023.PV_norm_5        0.679491\n",
      "SI88033.PV_norm_5         0.400453\n",
      "SI88034.PV_norm_5         0.243875\n",
      "MQI88024.CPV_norm_5       0.507622\n",
      "target_norm_5             0.679484\n",
      "dtype: float64 <class 'numpy.float64'>\n",
      "\n",
      "std:\n",
      " WQI8100XCL1.CPV_norm_5    0.169039\n",
      "XI84201.PV_norm_5         0.067252\n",
      "XI84202.PV_norm_5         0.154775\n",
      "XI84123.PV_norm_5         0.104444\n",
      "XI84124.PV_norm_5         0.128338\n",
      "XI84125.PV_norm_5         0.213323\n",
      "FX87211.CPV1_norm_5       0.170771\n",
      "FIC87211.PV_norm_5        0.080804\n",
      "FIC87211.SV_norm_5        0.044512\n",
      "FX87211.P01_norm_5        0.135888\n",
      "FI87208.PV_norm_5         0.061291\n",
      "AIC88049.PV_norm_5        0.037442\n",
      "ZI88001.PV_norm_5         0.108564\n",
      "NIC88002.PV_norm_5        0.130007\n",
      "PIC88007.PV_norm_5        0.137725\n",
      "LIC88006.PV_norm_5        0.317670\n",
      "AIC88055.PV_norm_5        0.496021\n",
      "FIC88022.PV_norm_5        0.184958\n",
      "DIC88023.PV_norm_5        0.153771\n",
      "SI88033.PV_norm_5         0.343062\n",
      "SI88034.PV_norm_5         0.338540\n",
      "MQI88024.CPV_norm_5       0.154674\n",
      "target_norm_5             0.153770\n",
      "dtype: float64 <class 'numpy.float64'>\n"
     ]
    }
   ],
   "source": [
    "print (\"mins:\\n\", mins, type(mins[0]))\n",
    "print (\"\\nmaxes:\\n\", maxes, type(maxes[0]))\n",
    "print (\"\\nmeans:\\n\", means, type(means[0]))\n",
    "print (\"\\nstd:\\n\", std, type(std[0]))"
   ]
  },
  {
   "cell_type": "code",
   "execution_count": 20,
   "metadata": {
    "scrolled": true
   },
   "outputs": [
    {
     "name": "stdout",
     "output_type": "stream",
     "text": [
      "23\n",
      "<class 'pandas.core.series.Series'> (23,)\n"
     ]
    },
    {
     "data": {
      "text/plain": [
       "(-1, 24)"
      ]
     },
     "execution_count": 20,
     "metadata": {},
     "output_type": "execute_result"
    },
    {
     "data": {
      "image/png": "[encoded data removed]",
      "text/plain": [
       "<matplotlib.figure.Figure at 0x12d5cfc8400>"
      ]
     },
     "metadata": {},
     "output_type": "display_data"
    }
   ],
   "source": [
    "# create stacked errorbars:\n",
    "temp = df.loc[:, df.columns != TIMESTAMP].shape[1]\n",
    "print (temp)\n",
    "print (type(means), means.shape)\n",
    "plt.errorbar(np.arange(temp), means, std, fmt='ok', lw=3)\n",
    "plt.errorbar(np.arange(temp), means, [means - mins, maxes - means], fmt='.k', ecolor='gray', lw=1)\n",
    "plt.xlim(-1, temp+1)"
   ]
  },
  {
   "cell_type": "code",
   "execution_count": 21,
   "metadata": {},
   "outputs": [
    {
     "data": {
      "text/plain": [
       "['timestamp',\n",
       " 'WQI8100XCL1.CPV_norm_5',\n",
       " 'XI84201.PV_norm_5',\n",
       " 'XI84202.PV_norm_5',\n",
       " 'XI84123.PV_norm_5',\n",
       " 'XI84124.PV_norm_5',\n",
       " 'XI84125.PV_norm_5',\n",
       " 'FX87211.CPV1_norm_5',\n",
       " 'FIC87211.PV_norm_5',\n",
       " 'FIC87211.SV_norm_5',\n",
       " 'FX87211.P01_norm_5',\n",
       " 'FI87208.PV_norm_5',\n",
       " 'AIC88049.PV_norm_5',\n",
       " 'ZI88001.PV_norm_5',\n",
       " 'NIC88002.PV_norm_5',\n",
       " 'PIC88007.PV_norm_5',\n",
       " 'LIC88006.PV_norm_5',\n",
       " 'AIC88055.PV_norm_5',\n",
       " 'FIC88022.PV_norm_5',\n",
       " 'DIC88023.PV_norm_5',\n",
       " 'SI88033.PV_norm_5',\n",
       " 'SI88034.PV_norm_5',\n",
       " 'MQI88024.CPV_norm_5',\n",
       " 'target_norm_5']"
      ]
     },
     "execution_count": 21,
     "metadata": {},
     "output_type": "execute_result"
    }
   ],
   "source": [
    "list(df)"
   ]
  },
  {
   "cell_type": "code",
   "execution_count": 23,
   "metadata": {},
   "outputs": [
    {
     "name": "stdout",
     "output_type": "stream",
     "text": [
      "normalised_input_colnames:\n",
      " ['WQI8100XCL1.CPV_norm_5', 'XI84201.PV_norm_5', 'XI84202.PV_norm_5', 'XI84123.PV_norm_5', 'XI84124.PV_norm_5', 'XI84125.PV_norm_5', 'FX87211.CPV1_norm_5', 'FIC87211.PV_norm_5', 'FIC87211.SV_norm_5', 'FX87211.P01_norm_5', 'FI87208.PV_norm_5', 'AIC88049.PV_norm_5', 'ZI88001.PV_norm_5', 'NIC88002.PV_norm_5', 'PIC88007.PV_norm_5', 'LIC88006.PV_norm_5', 'AIC88055.PV_norm_5', 'FIC88022.PV_norm_5', 'DIC88023.PV_norm_5', 'SI88033.PV_norm_5', 'SI88034.PV_norm_5', 'MQI88024.CPV_norm_5']\n"
     ]
    },
    {
     "data": {
      "text/html": [
       "<div>\n",
       "<style scoped>\n",
       "    .dataframe tbody tr th:only-of-type {\n",
       "        vertical-align: middle;\n",
       "    }\n",
       "\n",
       "    .dataframe tbody tr th {\n",
       "        vertical-align: top;\n",
       "    }\n",
       "\n",
       "    .dataframe thead th {\n",
       "        text-align: right;\n",
       "    }\n",
       "</style>\n",
       "<table border=\"1\" class=\"dataframe\">\n",
       "  <thead>\n",
       "    <tr style=\"text-align: right;\">\n",
       "      <th></th>\n",
       "      <th>WQI8100XCL1.CPV_norm_5</th>\n",
       "      <th>XI84201.PV_norm_5</th>\n",
       "      <th>XI84202.PV_norm_5</th>\n",
       "      <th>XI84123.PV_norm_5</th>\n",
       "      <th>XI84124.PV_norm_5</th>\n",
       "      <th>XI84125.PV_norm_5</th>\n",
       "      <th>FX87211.CPV1_norm_5</th>\n",
       "      <th>FIC87211.PV_norm_5</th>\n",
       "      <th>FIC87211.SV_norm_5</th>\n",
       "      <th>FX87211.P01_norm_5</th>\n",
       "      <th>...</th>\n",
       "      <th>ZI88001.PV_norm_5</th>\n",
       "      <th>NIC88002.PV_norm_5</th>\n",
       "      <th>PIC88007.PV_norm_5</th>\n",
       "      <th>LIC88006.PV_norm_5</th>\n",
       "      <th>AIC88055.PV_norm_5</th>\n",
       "      <th>FIC88022.PV_norm_5</th>\n",
       "      <th>DIC88023.PV_norm_5</th>\n",
       "      <th>SI88033.PV_norm_5</th>\n",
       "      <th>SI88034.PV_norm_5</th>\n",
       "      <th>MQI88024.CPV_norm_5</th>\n",
       "    </tr>\n",
       "  </thead>\n",
       "  <tbody>\n",
       "    <tr>\n",
       "      <th>0</th>\n",
       "      <td>0.782667</td>\n",
       "      <td>0.179972</td>\n",
       "      <td>0.813599</td>\n",
       "      <td>0.318652</td>\n",
       "      <td>0.362668</td>\n",
       "      <td>0.517654</td>\n",
       "      <td>0.792140</td>\n",
       "      <td>0.276124</td>\n",
       "      <td>0.298961</td>\n",
       "      <td>0.2</td>\n",
       "      <td>...</td>\n",
       "      <td>0.000205</td>\n",
       "      <td>0.560427</td>\n",
       "      <td>0.367223</td>\n",
       "      <td>0.429712</td>\n",
       "      <td>0.002804</td>\n",
       "      <td>0.623166</td>\n",
       "      <td>0.715983</td>\n",
       "      <td>0.000939</td>\n",
       "      <td>0.730696</td>\n",
       "      <td>0.512930</td>\n",
       "    </tr>\n",
       "    <tr>\n",
       "      <th>1</th>\n",
       "      <td>0.737402</td>\n",
       "      <td>0.180217</td>\n",
       "      <td>0.812874</td>\n",
       "      <td>0.327881</td>\n",
       "      <td>0.357805</td>\n",
       "      <td>0.506015</td>\n",
       "      <td>0.785743</td>\n",
       "      <td>0.273220</td>\n",
       "      <td>0.297361</td>\n",
       "      <td>0.2</td>\n",
       "      <td>...</td>\n",
       "      <td>0.000185</td>\n",
       "      <td>0.561306</td>\n",
       "      <td>0.368338</td>\n",
       "      <td>0.437832</td>\n",
       "      <td>0.002783</td>\n",
       "      <td>0.620885</td>\n",
       "      <td>0.716125</td>\n",
       "      <td>0.000938</td>\n",
       "      <td>0.728738</td>\n",
       "      <td>0.511085</td>\n",
       "    </tr>\n",
       "    <tr>\n",
       "      <th>2</th>\n",
       "      <td>0.752059</td>\n",
       "      <td>0.168277</td>\n",
       "      <td>0.835042</td>\n",
       "      <td>0.290576</td>\n",
       "      <td>0.368496</td>\n",
       "      <td>0.518050</td>\n",
       "      <td>0.777408</td>\n",
       "      <td>0.271313</td>\n",
       "      <td>0.294048</td>\n",
       "      <td>0.2</td>\n",
       "      <td>...</td>\n",
       "      <td>0.000167</td>\n",
       "      <td>0.560887</td>\n",
       "      <td>0.368346</td>\n",
       "      <td>0.438917</td>\n",
       "      <td>0.002762</td>\n",
       "      <td>0.616990</td>\n",
       "      <td>0.716048</td>\n",
       "      <td>0.000939</td>\n",
       "      <td>0.725941</td>\n",
       "      <td>0.507956</td>\n",
       "    </tr>\n",
       "    <tr>\n",
       "      <th>3</th>\n",
       "      <td>0.759236</td>\n",
       "      <td>0.176766</td>\n",
       "      <td>0.819596</td>\n",
       "      <td>0.293555</td>\n",
       "      <td>0.366063</td>\n",
       "      <td>0.517136</td>\n",
       "      <td>0.770726</td>\n",
       "      <td>0.268424</td>\n",
       "      <td>0.290379</td>\n",
       "      <td>0.2</td>\n",
       "      <td>...</td>\n",
       "      <td>0.000171</td>\n",
       "      <td>0.559457</td>\n",
       "      <td>0.371132</td>\n",
       "      <td>0.439702</td>\n",
       "      <td>0.002741</td>\n",
       "      <td>0.612974</td>\n",
       "      <td>0.715780</td>\n",
       "      <td>0.000929</td>\n",
       "      <td>0.722019</td>\n",
       "      <td>0.504314</td>\n",
       "    </tr>\n",
       "    <tr>\n",
       "      <th>4</th>\n",
       "      <td>0.758705</td>\n",
       "      <td>0.175657</td>\n",
       "      <td>0.821670</td>\n",
       "      <td>0.312011</td>\n",
       "      <td>0.358404</td>\n",
       "      <td>0.511252</td>\n",
       "      <td>0.765858</td>\n",
       "      <td>0.264865</td>\n",
       "      <td>0.287144</td>\n",
       "      <td>0.2</td>\n",
       "      <td>...</td>\n",
       "      <td>0.000259</td>\n",
       "      <td>0.559395</td>\n",
       "      <td>0.375076</td>\n",
       "      <td>0.441342</td>\n",
       "      <td>0.002720</td>\n",
       "      <td>0.609683</td>\n",
       "      <td>0.715815</td>\n",
       "      <td>0.000932</td>\n",
       "      <td>0.718845</td>\n",
       "      <td>0.501727</td>\n",
       "    </tr>\n",
       "  </tbody>\n",
       "</table>\n",
       "<p>5 rows × 22 columns</p>\n",
       "</div>"
      ],
      "text/plain": [
       "   WQI8100XCL1.CPV_norm_5  XI84201.PV_norm_5  XI84202.PV_norm_5  \\\n",
       "0                0.782667           0.179972           0.813599   \n",
       "1                0.737402           0.180217           0.812874   \n",
       "2                0.752059           0.168277           0.835042   \n",
       "3                0.759236           0.176766           0.819596   \n",
       "4                0.758705           0.175657           0.821670   \n",
       "\n",
       "   XI84123.PV_norm_5  XI84124.PV_norm_5  XI84125.PV_norm_5  \\\n",
       "0           0.318652           0.362668           0.517654   \n",
       "1           0.327881           0.357805           0.506015   \n",
       "2           0.290576           0.368496           0.518050   \n",
       "3           0.293555           0.366063           0.517136   \n",
       "4           0.312011           0.358404           0.511252   \n",
       "\n",
       "   FX87211.CPV1_norm_5  FIC87211.PV_norm_5  FIC87211.SV_norm_5  \\\n",
       "0             0.792140            0.276124            0.298961   \n",
       "1             0.785743            0.273220            0.297361   \n",
       "2             0.777408            0.271313            0.294048   \n",
       "3             0.770726            0.268424            0.290379   \n",
       "4             0.765858            0.264865            0.287144   \n",
       "\n",
       "   FX87211.P01_norm_5         ...           ZI88001.PV_norm_5  \\\n",
       "0                 0.2         ...                    0.000205   \n",
       "1                 0.2         ...                    0.000185   \n",
       "2                 0.2         ...                    0.000167   \n",
       "3                 0.2         ...                    0.000171   \n",
       "4                 0.2         ...                    0.000259   \n",
       "\n",
       "   NIC88002.PV_norm_5  PIC88007.PV_norm_5  LIC88006.PV_norm_5  \\\n",
       "0            0.560427            0.367223            0.429712   \n",
       "1            0.561306            0.368338            0.437832   \n",
       "2            0.560887            0.368346            0.438917   \n",
       "3            0.559457            0.371132            0.439702   \n",
       "4            0.559395            0.375076            0.441342   \n",
       "\n",
       "   AIC88055.PV_norm_5  FIC88022.PV_norm_5  DIC88023.PV_norm_5  \\\n",
       "0            0.002804            0.623166            0.715983   \n",
       "1            0.002783            0.620885            0.716125   \n",
       "2            0.002762            0.616990            0.716048   \n",
       "3            0.002741            0.612974            0.715780   \n",
       "4            0.002720            0.609683            0.715815   \n",
       "\n",
       "   SI88033.PV_norm_5  SI88034.PV_norm_5  MQI88024.CPV_norm_5  \n",
       "0           0.000939           0.730696             0.512930  \n",
       "1           0.000938           0.728738             0.511085  \n",
       "2           0.000939           0.725941             0.507956  \n",
       "3           0.000929           0.722019             0.504314  \n",
       "4           0.000932           0.718845             0.501727  \n",
       "\n",
       "[5 rows x 22 columns]"
      ]
     },
     "execution_count": 23,
     "metadata": {},
     "output_type": "execute_result"
    }
   ],
   "source": [
    "print (\"normalised_input_colnames:\\n\", normalised_input_colnames)\n",
    "df[normalised_input_colnames].head(5)"
   ]
  },
  {
   "cell_type": "code",
   "execution_count": 24,
   "metadata": {},
   "outputs": [
    {
     "name": "stdout",
     "output_type": "stream",
     "text": [
      "start fitting model\n",
      "completed model.fit in  0:00:02.283712\n"
     ]
    }
   ],
   "source": [
    "#now build XGBoost model, predict value for 'predicted' column, then re-verse scaling.\n",
    "#todo: improve selection of params\n",
    "params = {\n",
    "'max_depth': 5,\n",
    "'n_estimators': 50,\n",
    "'objective': 'reg:linear'}\n",
    "model = XGBRegressor(**params)\n",
    "print (\"start fitting model\")\n",
    "\n",
    "\n",
    "start = datetime.datetime.now()\n",
    "model.fit(df[normalised_input_colnames], df['target_norm_5'])\n",
    "print (\"completed model.fit in \", datetime.datetime.now()-start)"
   ]
  },
  {
   "cell_type": "code",
   "execution_count": 25,
   "metadata": {
    "collapsed": true
   },
   "outputs": [],
   "source": [
    "# make predictions for test data\n",
    "y_pred = model.predict(df[normalised_input_colnames])"
   ]
  },
  {
   "cell_type": "code",
   "execution_count": 26,
   "metadata": {},
   "outputs": [
    {
     "data": {
      "text/plain": [
       "(numpy.ndarray, (114060,))"
      ]
     },
     "execution_count": 26,
     "metadata": {},
     "output_type": "execute_result"
    }
   ],
   "source": [
    "type(y_pred), y_pred.shape"
   ]
  },
  {
   "cell_type": "code",
   "execution_count": 27,
   "metadata": {
    "collapsed": true
   },
   "outputs": [],
   "source": [
    "df[PREDICTED] = y_pred"
   ]
  },
  {
   "cell_type": "code",
   "execution_count": 28,
   "metadata": {},
   "outputs": [
    {
     "data": {
      "text/html": [
       "<div>\n",
       "<style scoped>\n",
       "    .dataframe tbody tr th:only-of-type {\n",
       "        vertical-align: middle;\n",
       "    }\n",
       "\n",
       "    .dataframe tbody tr th {\n",
       "        vertical-align: top;\n",
       "    }\n",
       "\n",
       "    .dataframe thead th {\n",
       "        text-align: right;\n",
       "    }\n",
       "</style>\n",
       "<table border=\"1\" class=\"dataframe\">\n",
       "  <thead>\n",
       "    <tr style=\"text-align: right;\">\n",
       "      <th></th>\n",
       "      <th>timestamp</th>\n",
       "      <th>WQI8100XCL1.CPV_norm_5</th>\n",
       "      <th>XI84201.PV_norm_5</th>\n",
       "      <th>XI84202.PV_norm_5</th>\n",
       "      <th>XI84123.PV_norm_5</th>\n",
       "      <th>XI84124.PV_norm_5</th>\n",
       "      <th>XI84125.PV_norm_5</th>\n",
       "      <th>FX87211.CPV1_norm_5</th>\n",
       "      <th>FIC87211.PV_norm_5</th>\n",
       "      <th>FIC87211.SV_norm_5</th>\n",
       "      <th>...</th>\n",
       "      <th>PIC88007.PV_norm_5</th>\n",
       "      <th>LIC88006.PV_norm_5</th>\n",
       "      <th>AIC88055.PV_norm_5</th>\n",
       "      <th>FIC88022.PV_norm_5</th>\n",
       "      <th>DIC88023.PV_norm_5</th>\n",
       "      <th>SI88033.PV_norm_5</th>\n",
       "      <th>SI88034.PV_norm_5</th>\n",
       "      <th>MQI88024.CPV_norm_5</th>\n",
       "      <th>target_norm_5</th>\n",
       "      <th>predicted</th>\n",
       "    </tr>\n",
       "  </thead>\n",
       "  <tbody>\n",
       "    <tr>\n",
       "      <th>0</th>\n",
       "      <td>0</td>\n",
       "      <td>0.782667</td>\n",
       "      <td>0.179972</td>\n",
       "      <td>0.813599</td>\n",
       "      <td>0.318652</td>\n",
       "      <td>0.362668</td>\n",
       "      <td>0.517654</td>\n",
       "      <td>0.792140</td>\n",
       "      <td>0.276124</td>\n",
       "      <td>0.298961</td>\n",
       "      <td>...</td>\n",
       "      <td>0.367223</td>\n",
       "      <td>0.429712</td>\n",
       "      <td>0.002804</td>\n",
       "      <td>0.623166</td>\n",
       "      <td>0.715983</td>\n",
       "      <td>0.000939</td>\n",
       "      <td>0.730696</td>\n",
       "      <td>0.512930</td>\n",
       "      <td>0.725303</td>\n",
       "      <td>0.71057</td>\n",
       "    </tr>\n",
       "    <tr>\n",
       "      <th>1</th>\n",
       "      <td>300</td>\n",
       "      <td>0.737402</td>\n",
       "      <td>0.180217</td>\n",
       "      <td>0.812874</td>\n",
       "      <td>0.327881</td>\n",
       "      <td>0.357805</td>\n",
       "      <td>0.506015</td>\n",
       "      <td>0.785743</td>\n",
       "      <td>0.273220</td>\n",
       "      <td>0.297361</td>\n",
       "      <td>...</td>\n",
       "      <td>0.368338</td>\n",
       "      <td>0.437832</td>\n",
       "      <td>0.002783</td>\n",
       "      <td>0.620885</td>\n",
       "      <td>0.716125</td>\n",
       "      <td>0.000938</td>\n",
       "      <td>0.728738</td>\n",
       "      <td>0.511085</td>\n",
       "      <td>0.725239</td>\n",
       "      <td>0.71057</td>\n",
       "    </tr>\n",
       "    <tr>\n",
       "      <th>2</th>\n",
       "      <td>600</td>\n",
       "      <td>0.752059</td>\n",
       "      <td>0.168277</td>\n",
       "      <td>0.835042</td>\n",
       "      <td>0.290576</td>\n",
       "      <td>0.368496</td>\n",
       "      <td>0.518050</td>\n",
       "      <td>0.777408</td>\n",
       "      <td>0.271313</td>\n",
       "      <td>0.294048</td>\n",
       "      <td>...</td>\n",
       "      <td>0.368346</td>\n",
       "      <td>0.438917</td>\n",
       "      <td>0.002762</td>\n",
       "      <td>0.616990</td>\n",
       "      <td>0.716048</td>\n",
       "      <td>0.000939</td>\n",
       "      <td>0.725941</td>\n",
       "      <td>0.507956</td>\n",
       "      <td>0.725009</td>\n",
       "      <td>0.71057</td>\n",
       "    </tr>\n",
       "    <tr>\n",
       "      <th>3</th>\n",
       "      <td>900</td>\n",
       "      <td>0.759236</td>\n",
       "      <td>0.176766</td>\n",
       "      <td>0.819596</td>\n",
       "      <td>0.293555</td>\n",
       "      <td>0.366063</td>\n",
       "      <td>0.517136</td>\n",
       "      <td>0.770726</td>\n",
       "      <td>0.268424</td>\n",
       "      <td>0.290379</td>\n",
       "      <td>...</td>\n",
       "      <td>0.371132</td>\n",
       "      <td>0.439702</td>\n",
       "      <td>0.002741</td>\n",
       "      <td>0.612974</td>\n",
       "      <td>0.715780</td>\n",
       "      <td>0.000929</td>\n",
       "      <td>0.722019</td>\n",
       "      <td>0.504314</td>\n",
       "      <td>0.724527</td>\n",
       "      <td>0.71057</td>\n",
       "    </tr>\n",
       "    <tr>\n",
       "      <th>4</th>\n",
       "      <td>1200</td>\n",
       "      <td>0.758705</td>\n",
       "      <td>0.175657</td>\n",
       "      <td>0.821670</td>\n",
       "      <td>0.312011</td>\n",
       "      <td>0.358404</td>\n",
       "      <td>0.511252</td>\n",
       "      <td>0.765858</td>\n",
       "      <td>0.264865</td>\n",
       "      <td>0.287144</td>\n",
       "      <td>...</td>\n",
       "      <td>0.375076</td>\n",
       "      <td>0.441342</td>\n",
       "      <td>0.002720</td>\n",
       "      <td>0.609683</td>\n",
       "      <td>0.715815</td>\n",
       "      <td>0.000932</td>\n",
       "      <td>0.718845</td>\n",
       "      <td>0.501727</td>\n",
       "      <td>0.724205</td>\n",
       "      <td>0.71057</td>\n",
       "    </tr>\n",
       "  </tbody>\n",
       "</table>\n",
       "<p>5 rows × 25 columns</p>\n",
       "</div>"
      ],
      "text/plain": [
       "   timestamp  WQI8100XCL1.CPV_norm_5  XI84201.PV_norm_5  XI84202.PV_norm_5  \\\n",
       "0          0                0.782667           0.179972           0.813599   \n",
       "1        300                0.737402           0.180217           0.812874   \n",
       "2        600                0.752059           0.168277           0.835042   \n",
       "3        900                0.759236           0.176766           0.819596   \n",
       "4       1200                0.758705           0.175657           0.821670   \n",
       "\n",
       "   XI84123.PV_norm_5  XI84124.PV_norm_5  XI84125.PV_norm_5  \\\n",
       "0           0.318652           0.362668           0.517654   \n",
       "1           0.327881           0.357805           0.506015   \n",
       "2           0.290576           0.368496           0.518050   \n",
       "3           0.293555           0.366063           0.517136   \n",
       "4           0.312011           0.358404           0.511252   \n",
       "\n",
       "   FX87211.CPV1_norm_5  FIC87211.PV_norm_5  FIC87211.SV_norm_5    ...      \\\n",
       "0             0.792140            0.276124            0.298961    ...       \n",
       "1             0.785743            0.273220            0.297361    ...       \n",
       "2             0.777408            0.271313            0.294048    ...       \n",
       "3             0.770726            0.268424            0.290379    ...       \n",
       "4             0.765858            0.264865            0.287144    ...       \n",
       "\n",
       "   PIC88007.PV_norm_5  LIC88006.PV_norm_5  AIC88055.PV_norm_5  \\\n",
       "0            0.367223            0.429712            0.002804   \n",
       "1            0.368338            0.437832            0.002783   \n",
       "2            0.368346            0.438917            0.002762   \n",
       "3            0.371132            0.439702            0.002741   \n",
       "4            0.375076            0.441342            0.002720   \n",
       "\n",
       "   FIC88022.PV_norm_5  DIC88023.PV_norm_5  SI88033.PV_norm_5  \\\n",
       "0            0.623166            0.715983           0.000939   \n",
       "1            0.620885            0.716125           0.000938   \n",
       "2            0.616990            0.716048           0.000939   \n",
       "3            0.612974            0.715780           0.000929   \n",
       "4            0.609683            0.715815           0.000932   \n",
       "\n",
       "   SI88034.PV_norm_5  MQI88024.CPV_norm_5  target_norm_5  predicted  \n",
       "0           0.730696             0.512930       0.725303    0.71057  \n",
       "1           0.728738             0.511085       0.725239    0.71057  \n",
       "2           0.725941             0.507956       0.725009    0.71057  \n",
       "3           0.722019             0.504314       0.724527    0.71057  \n",
       "4           0.718845             0.501727       0.724205    0.71057  \n",
       "\n",
       "[5 rows x 25 columns]"
      ]
     },
     "execution_count": 28,
     "metadata": {},
     "output_type": "execute_result"
    }
   ],
   "source": [
    "df.head(5)"
   ]
  },
  {
   "cell_type": "code",
   "execution_count": 29,
   "metadata": {},
   "outputs": [
    {
     "data": {
      "text/plain": [
       "<matplotlib.legend.Legend at 0x12d5d100748>"
      ]
     },
     "execution_count": 29,
     "metadata": {},
     "output_type": "execute_result"
    },
    {
     "data": {
      "image/png": "[encoded data removed]",
      "text/plain": [
       "<matplotlib.figure.Figure at 0x12d5d946d30>"
      ]
     },
     "metadata": {},
     "output_type": "display_data"
    }
   ],
   "source": [
    "plt.plot(df[TIMESTAMP], df['target_norm_5'], color = 'green', label=\"actual\")\n",
    "plt.plot(df[TIMESTAMP], df[PREDICTED], color = 'red', label=PREDICTED)\n",
    "plt.legend()\n"
   ]
  },
  {
   "cell_type": "code",
   "execution_count": 30,
   "metadata": {},
   "outputs": [
    {
     "data": {
      "text/plain": [
       "0.0028083563967389691"
      ]
     },
     "execution_count": 30,
     "metadata": {},
     "output_type": "execute_result"
    }
   ],
   "source": [
    "#calculate accuracy using mean squared error formula as nominated.\n",
    "mean_squared_error(df[PREDICTED], df['target_norm_5'])\n",
    "#0.0028083563967389691\n",
    "#todo: record mse, try a range of hyperparameters, select optimum hyperparameters for best result."
   ]
  },
  {
   "cell_type": "code",
   "execution_count": 31,
   "metadata": {},
   "outputs": [
    {
     "data": {
      "text/plain": [
       "{'AIC88049.PV': MinMaxScaler(copy=True, feature_range=(0, 1)),\n",
       " 'AIC88055.PV': MinMaxScaler(copy=True, feature_range=(0, 1)),\n",
       " 'DIC88023.PV': MinMaxScaler(copy=True, feature_range=(0, 1)),\n",
       " 'FI87208.PV': MinMaxScaler(copy=True, feature_range=(0, 1)),\n",
       " 'FIC87211.PV': MinMaxScaler(copy=True, feature_range=(0, 1)),\n",
       " 'FIC87211.SV': MinMaxScaler(copy=True, feature_range=(0, 1)),\n",
       " 'FIC88022.PV': MinMaxScaler(copy=True, feature_range=(0, 1)),\n",
       " 'FX87211.CPV1': MinMaxScaler(copy=True, feature_range=(0, 1)),\n",
       " 'FX87211.P01': MinMaxScaler(copy=True, feature_range=(0, 1)),\n",
       " 'LIC88006.PV': MinMaxScaler(copy=True, feature_range=(0, 1)),\n",
       " 'MQI88024.CPV': MinMaxScaler(copy=True, feature_range=(0, 1)),\n",
       " 'NIC88002.PV': MinMaxScaler(copy=True, feature_range=(0, 1)),\n",
       " 'PIC88007.PV': MinMaxScaler(copy=True, feature_range=(0, 1)),\n",
       " 'SI88033.PV': MinMaxScaler(copy=True, feature_range=(0, 1)),\n",
       " 'SI88034.PV': MinMaxScaler(copy=True, feature_range=(0, 1)),\n",
       " 'WQI8100XCL1.CPV': MinMaxScaler(copy=True, feature_range=(0, 1)),\n",
       " 'XI84123.PV': MinMaxScaler(copy=True, feature_range=(0, 1)),\n",
       " 'XI84124.PV': MinMaxScaler(copy=True, feature_range=(0, 1)),\n",
       " 'XI84125.PV': MinMaxScaler(copy=True, feature_range=(0, 1)),\n",
       " 'XI84201.PV': MinMaxScaler(copy=True, feature_range=(0, 1)),\n",
       " 'XI84202.PV': MinMaxScaler(copy=True, feature_range=(0, 1)),\n",
       " 'ZI88001.PV': MinMaxScaler(copy=True, feature_range=(0, 1)),\n",
       " 'target': MinMaxScaler(copy=True, feature_range=(0, 1))}"
      ]
     },
     "execution_count": 31,
     "metadata": {},
     "output_type": "execute_result"
    }
   ],
   "source": [
    "scalars"
   ]
  },
  {
   "cell_type": "code",
   "execution_count": 32,
   "metadata": {
    "collapsed": true
   },
   "outputs": [],
   "source": [
    "#drop predicted column\n",
    "df.drop(labels=PREDICTED, axis=1, inplace=True)"
   ]
  },
  {
   "cell_type": "code",
   "execution_count": 33,
   "metadata": {},
   "outputs": [
    {
     "data": {
      "text/plain": [
       "['timestamp',\n",
       " 'WQI8100XCL1.CPV_norm_5',\n",
       " 'XI84201.PV_norm_5',\n",
       " 'XI84202.PV_norm_5',\n",
       " 'XI84123.PV_norm_5',\n",
       " 'XI84124.PV_norm_5',\n",
       " 'XI84125.PV_norm_5',\n",
       " 'FX87211.CPV1_norm_5',\n",
       " 'FIC87211.PV_norm_5',\n",
       " 'FIC87211.SV_norm_5',\n",
       " 'FX87211.P01_norm_5',\n",
       " 'FI87208.PV_norm_5',\n",
       " 'AIC88049.PV_norm_5',\n",
       " 'ZI88001.PV_norm_5',\n",
       " 'NIC88002.PV_norm_5',\n",
       " 'PIC88007.PV_norm_5',\n",
       " 'LIC88006.PV_norm_5',\n",
       " 'AIC88055.PV_norm_5',\n",
       " 'FIC88022.PV_norm_5',\n",
       " 'DIC88023.PV_norm_5',\n",
       " 'SI88033.PV_norm_5',\n",
       " 'SI88034.PV_norm_5',\n",
       " 'MQI88024.CPV_norm_5',\n",
       " 'target_norm_5']"
      ]
     },
     "execution_count": 33,
     "metadata": {},
     "output_type": "execute_result"
    }
   ],
   "source": [
    "list(df)"
   ]
  },
  {
   "cell_type": "code",
   "execution_count": 34,
   "metadata": {
    "collapsed": true
   },
   "outputs": [],
   "source": [
    "def model_predict(max_depth, n_estimators, objective, df_input, target_colname):\n",
    "    print(\"model_predict:max_depth:\", max_depth, \", n_estimators:\", n_estimators, \", objective:\", objective)\n",
    "    params = {\n",
    "    'max_depth': max_depth,\n",
    "    'n_estimators': n_estimators,\n",
    "    'objective': objective}\n",
    "    model = XGBRegressor(**params)\n",
    "    normalised_input_colnames = list(df_input)[1:-1]\n",
    "    print (\"normalised_input_colnames:\\n\", normalised_input_colnames)\n",
    "    print (\"start fitting model\")\n",
    "    start = datetime.datetime.now()\n",
    "    model.fit(df_input[normalised_input_colnames], df_input[target_colname])\n",
    "    print (\"completed model.fit in \", datetime.datetime.now()-start)\n",
    "    # make predictions for test data\n",
    "    df[PREDICTED] = model.predict(df_input[normalised_input_colnames])\n",
    "    mse = mean_squared_error(df[PREDICTED], df[target_colname])\n",
    "    #drop predicted column\n",
    "    df.drop(labels=PREDICTED, axis=1, inplace=True)\n",
    "    return mse\n"
   ]
  },
  {
   "cell_type": "code",
   "execution_count": 35,
   "metadata": {},
   "outputs": [
    {
     "name": "stdout",
     "output_type": "stream",
     "text": [
      "model_predict:max_depth: 5 , n_estimators: 50 , objective: reg:linear\n",
      "normalised_input_colnames:\n",
      " ['WQI8100XCL1.CPV_norm_5', 'XI84201.PV_norm_5', 'XI84202.PV_norm_5', 'XI84123.PV_norm_5', 'XI84124.PV_norm_5', 'XI84125.PV_norm_5', 'FX87211.CPV1_norm_5', 'FIC87211.PV_norm_5', 'FIC87211.SV_norm_5', 'FX87211.P01_norm_5', 'FI87208.PV_norm_5', 'AIC88049.PV_norm_5', 'ZI88001.PV_norm_5', 'NIC88002.PV_norm_5', 'PIC88007.PV_norm_5', 'LIC88006.PV_norm_5', 'AIC88055.PV_norm_5', 'FIC88022.PV_norm_5', 'DIC88023.PV_norm_5', 'SI88033.PV_norm_5', 'SI88034.PV_norm_5', 'MQI88024.CPV_norm_5']\n",
      "start fitting model\n",
      "completed model.fit in  0:00:02.134623\n",
      "mse: [0.0028083563967389691]\n",
      "model_predict:max_depth: 10 , n_estimators: 100 , objective: reg:linear\n",
      "normalised_input_colnames:\n",
      " ['WQI8100XCL1.CPV_norm_5', 'XI84201.PV_norm_5', 'XI84202.PV_norm_5', 'XI84123.PV_norm_5', 'XI84124.PV_norm_5', 'XI84125.PV_norm_5', 'FX87211.CPV1_norm_5', 'FIC87211.PV_norm_5', 'FIC87211.SV_norm_5', 'FX87211.P01_norm_5', 'FI87208.PV_norm_5', 'AIC88049.PV_norm_5', 'ZI88001.PV_norm_5', 'NIC88002.PV_norm_5', 'PIC88007.PV_norm_5', 'LIC88006.PV_norm_5', 'AIC88055.PV_norm_5', 'FIC88022.PV_norm_5', 'DIC88023.PV_norm_5', 'SI88033.PV_norm_5', 'SI88034.PV_norm_5', 'MQI88024.CPV_norm_5']\n",
      "start fitting model\n",
      "completed model.fit in  0:00:08.752712\n",
      "mse: [0.0028083563967389691, 0.0001853097135634843]\n",
      "model_predict:max_depth: 20 , n_estimators: 200 , objective: reg:linear\n",
      "normalised_input_colnames:\n",
      " ['WQI8100XCL1.CPV_norm_5', 'XI84201.PV_norm_5', 'XI84202.PV_norm_5', 'XI84123.PV_norm_5', 'XI84124.PV_norm_5', 'XI84125.PV_norm_5', 'FX87211.CPV1_norm_5', 'FIC87211.PV_norm_5', 'FIC87211.SV_norm_5', 'FX87211.P01_norm_5', 'FI87208.PV_norm_5', 'AIC88049.PV_norm_5', 'ZI88001.PV_norm_5', 'NIC88002.PV_norm_5', 'PIC88007.PV_norm_5', 'LIC88006.PV_norm_5', 'AIC88055.PV_norm_5', 'FIC88022.PV_norm_5', 'DIC88023.PV_norm_5', 'SI88033.PV_norm_5', 'SI88034.PV_norm_5', 'MQI88024.CPV_norm_5']\n",
      "start fitting model\n",
      "completed model.fit in  0:00:29.315889\n",
      "mse: [0.0028083563967389691, 0.0001853097135634843, 1.7009372273069388e-06]\n"
     ]
    }
   ],
   "source": [
    "mse = []\n",
    "mse.append(model_predict(5, 50, 'reg:linear', df, 'target_norm_5'))\n",
    "print (\"mse:\", mse)\n",
    "mse.append(model_predict(10, 100, 'reg:linear', df, 'target_norm_5'))\n",
    "print (\"mse:\", mse)\n",
    "mse.append(model_predict(20, 200, 'reg:linear', df, 'target_norm_5'))\n",
    "print (\"mse:\", mse)"
   ]
  },
  {
   "cell_type": "code",
   "execution_count": 36,
   "metadata": {},
   "outputs": [
    {
     "name": "stdout",
     "output_type": "stream",
     "text": [
      "model_predict:max_depth: 50 , n_estimators: 500 , objective: reg:linear\n",
      "normalised_input_colnames:\n",
      " ['WQI8100XCL1.CPV_norm_5', 'XI84201.PV_norm_5', 'XI84202.PV_norm_5', 'XI84123.PV_norm_5', 'XI84124.PV_norm_5', 'XI84125.PV_norm_5', 'FX87211.CPV1_norm_5', 'FIC87211.PV_norm_5', 'FIC87211.SV_norm_5', 'FX87211.P01_norm_5', 'FI87208.PV_norm_5', 'AIC88049.PV_norm_5', 'ZI88001.PV_norm_5', 'NIC88002.PV_norm_5', 'PIC88007.PV_norm_5', 'LIC88006.PV_norm_5', 'AIC88055.PV_norm_5', 'FIC88022.PV_norm_5', 'DIC88023.PV_norm_5', 'SI88033.PV_norm_5', 'SI88034.PV_norm_5', 'MQI88024.CPV_norm_5']\n",
      "start fitting model\n",
      "completed model.fit in  0:00:44.571472\n",
      "mse: [0.0028083563967389691, 0.0001853097135634843, 1.7009372273069388e-06, 1.3397025229127548e-06]\n"
     ]
    }
   ],
   "source": [
    "mse.append(model_predict(50, 500, 'reg:linear', df, 'target_norm_5'))\n",
    "print (\"mse:\", mse)"
   ]
  },
  {
   "cell_type": "code",
   "execution_count": null,
   "metadata": {
    "collapsed": true
   },
   "outputs": [],
   "source": [
    "#NB: this is probably overfitted."
   ]
  }
 ],
 "metadata": {
  "kernelspec": {
   "display_name": "Python 3",
   "language": "python",
   "name": "python3"
  },
  "language_info": {
   "codemirror_mode": {
    "name": "ipython",
    "version": 3
   },
   "file_extension": ".py",
   "mimetype": "text/x-python",
   "name": "python",
   "nbconvert_exporter": "python",
   "pygments_lexer": "ipython3",
   "version": "3.6.1"
  }
 },
 "nbformat": 4,
 "nbformat_minor": 2
}
