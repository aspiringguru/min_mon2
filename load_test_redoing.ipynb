{
 "cells": [
  {
   "cell_type": "code",
   "execution_count": 1,
   "metadata": {},
   "outputs": [
    {
     "name": "stderr",
     "output_type": "stream",
     "text": [
      "D:\\DProgramFiles\\python3Anaconda\\lib\\site-packages\\sklearn\\cross_validation.py:41: DeprecationWarning: This module was deprecated in version 0.18 in favor of the model_selection module into which all the refactored classes and functions are moved. Also note that the interface of the new CV iterators are different from that of this module. This module will be removed in 0.20.\n",
      "  \"This module will be removed in 0.20.\", DeprecationWarning)\n"
     ]
    }
   ],
   "source": [
    "from numpy import loadtxt\n",
    "import numpy as np\n",
    "import pandas as pd\n",
    "from xgboost import XGBClassifier\n",
    "from xgboost import XGBRegressor\n",
    "from sklearn.model_selection import train_test_split\n",
    "from sklearn.metrics import accuracy_score #not used?\n",
    "from sklearn.metrics import mean_squared_error \n",
    "from sklearn.preprocessing import MinMaxScaler\n",
    "import datetime\n",
    "import os\n",
    "import matplotlib.pylab as plt\n",
    "import time\n",
    "\n",
    "\n",
    "%matplotlib inline"
   ]
  },
  {
   "cell_type": "code",
   "execution_count": 2,
   "metadata": {
    "collapsed": true
   },
   "outputs": [],
   "source": [
    "DATA_DIR = \"D:/2017_working/unearthed/output/\"\n",
    "INPUT_DATA_DIR = \"D:/2017_working/unearthed/\"\n",
    "TARGET = \"target\"\n",
    "NORM_TARGET = \"norm_target\"\n",
    "UNAMED = \"Unnamed: 0\"\n",
    "TIMESTAMP = \"timestamp\""
   ]
  },
  {
   "cell_type": "code",
   "execution_count": 3,
   "metadata": {},
   "outputs": [
    {
     "name": "stdout",
     "output_type": "stream",
     "text": [
      "<class 'pandas.core.frame.DataFrame'> (439140, 27)\n"
     ]
    },
    {
     "name": "stderr",
     "output_type": "stream",
     "text": [
      "D:\\DProgramFiles\\python3Anaconda\\lib\\site-packages\\IPython\\core\\interactiveshell.py:2717: DtypeWarning: Columns (1,2,3,4,5,6,7,8,9,10,11,12,13,14,15,16,17,18,21,22,23) have mixed types. Specify dtype option on import or set low_memory=False.\n",
      "  interactivity=interactivity, compiler=compiler, result=result)\n"
     ]
    }
   ],
   "source": [
    "df_test = pd.read_csv(INPUT_DATA_DIR+'publishable_test_set.csv')\n",
    "print (type(df_test), df_test.shape)"
   ]
  },
  {
   "cell_type": "code",
   "execution_count": 4,
   "metadata": {},
   "outputs": [
    {
     "data": {
      "text/plain": [
       "['timestamp',\n",
       " 'WQI8100XCL1.CPV',\n",
       " 'XI84201.PV',\n",
       " 'XI84202.PV',\n",
       " 'XI84123.PV',\n",
       " 'XI84124.PV',\n",
       " 'XI84125.PV',\n",
       " 'FX87211.CPV1',\n",
       " 'FIC87211.PV',\n",
       " 'FIC87211.SV',\n",
       " 'FX87211.P01',\n",
       " 'FI87208.PV',\n",
       " 'AIC88049.PV',\n",
       " 'ZI88001.PV',\n",
       " 'NIC88002.PV',\n",
       " 'PIC88007.PV',\n",
       " 'LIC88006.PV',\n",
       " 'AIC88055.PV',\n",
       " 'FIC88022.PV',\n",
       " 'II88151.PV',\n",
       " 'II88152.PV',\n",
       " 'SI88033.PV',\n",
       " 'SI88034.PV',\n",
       " 'MQI88024.CPV',\n",
       " 'FV88156.PV',\n",
       " 'FV88043.PV',\n",
       " 'FV88044.PV']"
      ]
     },
     "execution_count": 4,
     "metadata": {},
     "output_type": "execute_result"
    }
   ],
   "source": [
    "colnames = list(df_test)\n",
    "colnames"
   ]
  },
  {
   "cell_type": "code",
   "execution_count": 5,
   "metadata": {
    "collapsed": true
   },
   "outputs": [],
   "source": [
    "#convert df[TIMESTAMP] from string to datetime\n",
    "df_test[TIMESTAMP] = pd.to_datetime(df_test[TIMESTAMP])"
   ]
  },
  {
   "cell_type": "code",
   "execution_count": 6,
   "metadata": {},
   "outputs": [
    {
     "data": {
      "text/plain": [
       "timestamp          datetime64[ns]\n",
       "WQI8100XCL1.CPV            object\n",
       "XI84201.PV                 object\n",
       "XI84202.PV                 object\n",
       "XI84123.PV                 object\n",
       "XI84124.PV                 object\n",
       "XI84125.PV                 object\n",
       "FX87211.CPV1               object\n",
       "FIC87211.PV                object\n",
       "FIC87211.SV                object\n",
       "FX87211.P01                object\n",
       "FI87208.PV                 object\n",
       "AIC88049.PV                object\n",
       "ZI88001.PV                 object\n",
       "NIC88002.PV                object\n",
       "PIC88007.PV                object\n",
       "LIC88006.PV                object\n",
       "AIC88055.PV                object\n",
       "FIC88022.PV                object\n",
       "II88151.PV                 object\n",
       "II88152.PV                 object\n",
       "SI88033.PV                 object\n",
       "SI88034.PV                 object\n",
       "MQI88024.CPV               object\n",
       "FV88156.PV                 object\n",
       "FV88043.PV                 object\n",
       "FV88044.PV                 object\n",
       "dtype: object"
      ]
     },
     "execution_count": 6,
     "metadata": {},
     "output_type": "execute_result"
    }
   ],
   "source": [
    "df_test.dtypes"
   ]
  },
  {
   "cell_type": "code",
   "execution_count": 7,
   "metadata": {},
   "outputs": [
    {
     "name": "stdout",
     "output_type": "stream",
     "text": [
      "<class 'pandas._libs.tslib.Timestamp'> 2016-05-01 00:00:00\n"
     ]
    }
   ],
   "source": [
    "print (type(df_test[TIMESTAMP].iloc[0]), df_test[TIMESTAMP].iloc[0])"
   ]
  },
  {
   "cell_type": "code",
   "execution_count": 8,
   "metadata": {},
   "outputs": [
    {
     "name": "stdout",
     "output_type": "stream",
     "text": [
      "2016-05-01 00:00:00 datetime64[ns] <class 'pandas._libs.tslib.Timestamp'>\n",
      "time_step(in seconds): 0 days 00:01:00 <class 'pandas._libs.tslib.Timedelta'>\n",
      "time_start = df[TIMESTAMP][0] <class 'pandas._libs.tslib.Timestamp'> 2016-05-01 00:00:00\n"
     ]
    }
   ],
   "source": [
    "print (df_test[TIMESTAMP].iloc[0], df_test[TIMESTAMP].dtypes, type(df_test[TIMESTAMP].iloc[0]))\n",
    "\n",
    "time_step = (df_test[TIMESTAMP].iloc[1]-df_test[TIMESTAMP].iloc[0])\n",
    "print (\"time_step(in seconds):\", time_step, type(time_step))\n",
    "time_start = df_test[TIMESTAMP].iloc[0]\n",
    "\n",
    "print (\"time_start = df[TIMESTAMP][0]\", type(df_test[TIMESTAMP].iloc[0]), df_test[TIMESTAMP].iloc[0])"
   ]
  },
  {
   "cell_type": "code",
   "execution_count": 9,
   "metadata": {},
   "outputs": [
    {
     "name": "stdout",
     "output_type": "stream",
     "text": [
      "converting df_test[TIMESTAMP] to int\n",
      "converting df_test[TIMESTAMP] to int: completed.\n"
     ]
    }
   ],
   "source": [
    "#convert datetime to int \n",
    "#convert datetime to int since XGBoost does not handle datetime\n",
    "#NB: df[TIMESTAMP][0] is set to zero with subsequent values = zero + seconds.\n",
    "print (\"converting df_test[TIMESTAMP] to int\")\n",
    "timestampNew = \"timestamp_\"\n",
    "df_test[timestampNew] = df_test.apply(lambda x: int((x[TIMESTAMP] - time_start).total_seconds()), axis=1)\n",
    "print (\"converting df_test[TIMESTAMP] to int: completed.\")\n",
    "df_test.drop(labels=TIMESTAMP, axis=1, inplace=True)\n",
    "df_test.rename(index=str, columns={timestampNew: TIMESTAMP}, inplace=True)\n",
    "\n",
    "#NB: timestamp is now last column in dataframe"
   ]
  },
  {
   "cell_type": "code",
   "execution_count": 10,
   "metadata": {},
   "outputs": [
    {
     "data": {
      "text/plain": [
       "(dtype('int64'), pandas.core.series.Series, 0, 60)"
      ]
     },
     "execution_count": 10,
     "metadata": {},
     "output_type": "execute_result"
    }
   ],
   "source": [
    "df_test[TIMESTAMP].dtypes, type(df_test[TIMESTAMP]), df_test[TIMESTAMP].iloc[0], df_test[TIMESTAMP].iloc[1]"
   ]
  },
  {
   "cell_type": "code",
   "execution_count": 11,
   "metadata": {},
   "outputs": [
    {
     "name": "stdout",
     "output_type": "stream",
     "text": [
      "null_count:\n",
      " WQI8100XCL1.CPV    0\n",
      "XI84201.PV         0\n",
      "XI84202.PV         0\n",
      "XI84123.PV         0\n",
      "XI84124.PV         0\n",
      "XI84125.PV         0\n",
      "FX87211.CPV1       0\n",
      "FIC87211.PV        0\n",
      "FIC87211.SV        0\n",
      "FX87211.P01        0\n",
      "FI87208.PV         0\n",
      "AIC88049.PV        0\n",
      "ZI88001.PV         0\n",
      "NIC88002.PV        0\n",
      "PIC88007.PV        0\n",
      "LIC88006.PV        0\n",
      "AIC88055.PV        0\n",
      "FIC88022.PV        0\n",
      "II88151.PV         0\n",
      "II88152.PV         0\n",
      "SI88033.PV         0\n",
      "SI88034.PV         0\n",
      "MQI88024.CPV       0\n",
      "FV88156.PV         0\n",
      "FV88043.PV         0\n",
      "FV88044.PV         0\n",
      "timestamp          0\n",
      "dtype: int64\n",
      "total nulls: 0\n"
     ]
    }
   ],
   "source": [
    "null_count = df_test.isnull().sum()\n",
    "print (\"null_count:\\n\", null_count)\n",
    "print (\"total nulls:\", null_count.sum())\n"
   ]
  },
  {
   "cell_type": "code",
   "execution_count": 12,
   "metadata": {
    "collapsed": true
   },
   "outputs": [],
   "source": [
    "    bad_list = ['No Data', 'I/O Timeout', 'Bad Input', 'Scan Off']"
   ]
  },
  {
   "cell_type": "code",
   "execution_count": 13,
   "metadata": {},
   "outputs": [
    {
     "name": "stdout",
     "output_type": "stream",
     "text": [
      "(439140, 27)\n",
      "WQI8100XCL1.CPV \t {'No Data': 0, 'I/O Timeout': 0, 'Bad Input': 18, 'Scan Off': 0} object\n",
      "XI84201.PV \t {'No Data': 0, 'I/O Timeout': 0, 'Bad Input': 19, 'Scan Off': 0} object\n",
      "XI84202.PV \t {'No Data': 0, 'I/O Timeout': 0, 'Bad Input': 19, 'Scan Off': 0} object\n",
      "XI84123.PV \t {'No Data': 0, 'I/O Timeout': 0, 'Bad Input': 19, 'Scan Off': 0} object\n",
      "XI84124.PV \t {'No Data': 0, 'I/O Timeout': 0, 'Bad Input': 26, 'Scan Off': 0} object\n",
      "XI84125.PV \t {'No Data': 0, 'I/O Timeout': 0, 'Bad Input': 26, 'Scan Off': 0} object\n",
      "FX87211.CPV1 \t {'No Data': 0, 'I/O Timeout': 0, 'Bad Input': 18, 'Scan Off': 0} object\n",
      "FIC87211.PV \t {'No Data': 0, 'I/O Timeout': 0, 'Bad Input': 18, 'Scan Off': 0} object\n",
      "FIC87211.SV \t {'No Data': 0, 'I/O Timeout': 0, 'Bad Input': 18, 'Scan Off': 0} object\n",
      "FX87211.P01 \t {'No Data': 0, 'I/O Timeout': 0, 'Bad Input': 18, 'Scan Off': 0} object\n",
      "FI87208.PV \t {'No Data': 0, 'I/O Timeout': 0, 'Bad Input': 18, 'Scan Off': 0} object\n",
      "AIC88049.PV \t {'No Data': 0, 'I/O Timeout': 0, 'Bad Input': 18, 'Scan Off': 0} object\n",
      "ZI88001.PV \t {'No Data': 0, 'I/O Timeout': 0, 'Bad Input': 18, 'Scan Off': 0} object\n",
      "NIC88002.PV \t {'No Data': 0, 'I/O Timeout': 0, 'Bad Input': 18, 'Scan Off': 0} object\n",
      "PIC88007.PV \t {'No Data': 0, 'I/O Timeout': 0, 'Bad Input': 18, 'Scan Off': 0} object\n",
      "LIC88006.PV \t {'No Data': 0, 'I/O Timeout': 0, 'Bad Input': 18, 'Scan Off': 0} object\n",
      "AIC88055.PV \t {'No Data': 0, 'I/O Timeout': 0, 'Bad Input': 53, 'Scan Off': 0} object\n",
      "FIC88022.PV \t {'No Data': 0, 'I/O Timeout': 0, 'Bad Input': 18, 'Scan Off': 0} object\n",
      "II88151.PV \t {'No Data': 439140, 'I/O Timeout': 0, 'Bad Input': 0, 'Scan Off': 0} object\n",
      "II88152.PV \t {'No Data': 439140, 'I/O Timeout': 0, 'Bad Input': 0, 'Scan Off': 0} object\n",
      "SI88033.PV \t {'No Data': 0, 'I/O Timeout': 0, 'Bad Input': 18, 'Scan Off': 0} object\n",
      "SI88034.PV \t {'No Data': 0, 'I/O Timeout': 0, 'Bad Input': 18, 'Scan Off': 0} object\n",
      "MQI88024.CPV \t {'No Data': 0, 'I/O Timeout': 0, 'Bad Input': 18, 'Scan Off': 0} object\n",
      "FV88156.PV \t {'No Data': 439140, 'I/O Timeout': 0, 'Bad Input': 0, 'Scan Off': 0} object\n",
      "FV88043.PV \t {'No Data': 439140, 'I/O Timeout': 0, 'Bad Input': 0, 'Scan Off': 0} object\n",
      "FV88044.PV \t {'No Data': 439140, 'I/O Timeout': 0, 'Bad Input': 0, 'Scan Off': 0} object\n",
      "cols_to_delete: ['II88151.PV', 'II88152.PV', 'FV88156.PV', 'FV88043.PV', 'FV88044.PV']\n"
     ]
    }
   ],
   "source": [
    "print (df_test.shape)\n",
    "cols_to_delete = []\n",
    "for colname in colnames[1:]:\n",
    "    #NB: TIMESTAMP column already converted above.\n",
    "    try:\n",
    "        badcount = []\n",
    "        for bad in bad_list:\n",
    "            badcount.append(df_test[colname].str.contains(bad).sum())\n",
    "        print (colname, \"\\t\", dict(zip(bad_list, badcount))  , df_test[colname].dtype)\n",
    "        if badcount[0] == df_test.shape[0]:\n",
    "            cols_to_delete.append(colname)\n",
    "    except Exception as e: \n",
    "        print(e)\n",
    "        print (\"error\", colname)\n",
    "        #added this since reusing this code block for data exploration\n",
    "print (\"cols_to_delete:\", cols_to_delete)\n"
   ]
  },
  {
   "cell_type": "code",
   "execution_count": 14,
   "metadata": {},
   "outputs": [
    {
     "name": "stdout",
     "output_type": "stream",
     "text": [
      "(439140, 27)\n",
      "(439140, 22)\n"
     ]
    }
   ],
   "source": [
    "print (df_test.shape)\n",
    "df_test = df_test.drop(cols_to_delete, axis=1)\n",
    "print (df_test.shape)"
   ]
  },
  {
   "cell_type": "code",
   "execution_count": 15,
   "metadata": {},
   "outputs": [
    {
     "data": {
      "text/plain": [
       "['WQI8100XCL1.CPV',\n",
       " 'XI84201.PV',\n",
       " 'XI84202.PV',\n",
       " 'XI84123.PV',\n",
       " 'XI84124.PV',\n",
       " 'XI84125.PV',\n",
       " 'FX87211.CPV1',\n",
       " 'FIC87211.PV',\n",
       " 'FIC87211.SV',\n",
       " 'FX87211.P01',\n",
       " 'FI87208.PV',\n",
       " 'AIC88049.PV',\n",
       " 'ZI88001.PV',\n",
       " 'NIC88002.PV',\n",
       " 'PIC88007.PV',\n",
       " 'LIC88006.PV',\n",
       " 'AIC88055.PV',\n",
       " 'FIC88022.PV',\n",
       " 'SI88033.PV',\n",
       " 'SI88034.PV',\n",
       " 'MQI88024.CPV',\n",
       " 'timestamp']"
      ]
     },
     "execution_count": 15,
     "metadata": {},
     "output_type": "execute_result"
    }
   ],
   "source": [
    "colnames = list(df_test)\n",
    "colnames"
   ]
  },
  {
   "cell_type": "code",
   "execution_count": 16,
   "metadata": {},
   "outputs": [
    {
     "name": "stdout",
     "output_type": "stream",
     "text": [
      "converting column: WQI8100XCL1.CPV\n",
      "converting column: XI84201.PV\n",
      "converting column: XI84202.PV\n",
      "converting column: XI84123.PV\n",
      "converting column: XI84124.PV\n",
      "converting column: XI84125.PV\n",
      "converting column: FX87211.CPV1\n",
      "converting column: FIC87211.PV\n",
      "converting column: FIC87211.SV\n",
      "converting column: FX87211.P01\n",
      "converting column: FI87208.PV\n",
      "converting column: AIC88049.PV\n",
      "converting column: ZI88001.PV\n",
      "converting column: NIC88002.PV\n",
      "converting column: PIC88007.PV\n",
      "converting column: LIC88006.PV\n",
      "converting column: AIC88055.PV\n",
      "converting column: FIC88022.PV\n",
      "converting column: SI88033.PV\n",
      "converting column: SI88034.PV\n",
      "converting column: MQI88024.CPV\n"
     ]
    }
   ],
   "source": [
    "#test converting columns from string values to floats with errors going to NaN\n",
    "for colname in colnames[:-1]:\n",
    "    print (\"converting column:\", colname)\n",
    "    df_test[colname] = pd.to_numeric(df_test[colname], errors='coerce')"
   ]
  },
  {
   "cell_type": "code",
   "execution_count": 17,
   "metadata": {},
   "outputs": [
    {
     "name": "stdout",
     "output_type": "stream",
     "text": [
      "null_count:\n",
      " WQI8100XCL1.CPV    18\n",
      "XI84201.PV         19\n",
      "XI84202.PV         19\n",
      "XI84123.PV         19\n",
      "XI84124.PV         26\n",
      "XI84125.PV         26\n",
      "FX87211.CPV1       18\n",
      "FIC87211.PV        18\n",
      "FIC87211.SV        18\n",
      "FX87211.P01        18\n",
      "FI87208.PV         18\n",
      "AIC88049.PV        18\n",
      "ZI88001.PV         18\n",
      "NIC88002.PV        18\n",
      "PIC88007.PV        18\n",
      "LIC88006.PV        18\n",
      "AIC88055.PV        53\n",
      "FIC88022.PV        18\n",
      "SI88033.PV         18\n",
      "SI88034.PV         18\n",
      "MQI88024.CPV       18\n",
      "timestamp           0\n",
      "dtype: int64\n",
      "total nulls: 432\n"
     ]
    }
   ],
   "source": [
    "#count NaN values in each column, then replace\n",
    "null_count = df_test.isnull().sum()\n",
    "print (\"null_count:\\n\", null_count)\n",
    "print (\"total nulls:\", null_count.sum())\n"
   ]
  },
  {
   "cell_type": "code",
   "execution_count": 18,
   "metadata": {},
   "outputs": [
    {
     "name": "stdout",
     "output_type": "stream",
     "text": [
      "filling colname: WQI8100XCL1.CPV\n",
      "filling colname: XI84201.PV\n",
      "filling colname: XI84202.PV\n",
      "filling colname: XI84123.PV\n",
      "filling colname: XI84124.PV\n",
      "filling colname: XI84125.PV\n",
      "filling colname: FX87211.CPV1\n",
      "filling colname: FIC87211.PV\n",
      "filling colname: FIC87211.SV\n",
      "filling colname: FX87211.P01\n",
      "filling colname: FI87208.PV\n",
      "filling colname: AIC88049.PV\n",
      "filling colname: ZI88001.PV\n",
      "filling colname: NIC88002.PV\n",
      "filling colname: PIC88007.PV\n",
      "filling colname: LIC88006.PV\n",
      "filling colname: AIC88055.PV\n",
      "filling colname: FIC88022.PV\n",
      "filling colname: SI88033.PV\n",
      "filling colname: SI88034.PV\n",
      "filling colname: MQI88024.CPV\n",
      "filling colname: timestamp\n"
     ]
    }
   ],
   "source": [
    "#convert null values to floats by filling data.\n",
    "#df_test.fillna(method='bfill', axis=1, inplace=True)\n",
    "for colname in colnames:\n",
    "    print (\"filling colname:\", colname)\n",
    "    df_test[colname].fillna(method='bfill', inplace=True)\n",
    "#NB: weird error if attempt fillna on dataframe. refer github unfixed error."
   ]
  },
  {
   "cell_type": "code",
   "execution_count": 19,
   "metadata": {},
   "outputs": [
    {
     "name": "stdout",
     "output_type": "stream",
     "text": [
      "null_count:\n",
      " WQI8100XCL1.CPV    0\n",
      "XI84201.PV         0\n",
      "XI84202.PV         0\n",
      "XI84123.PV         0\n",
      "XI84124.PV         0\n",
      "XI84125.PV         0\n",
      "FX87211.CPV1       0\n",
      "FIC87211.PV        0\n",
      "FIC87211.SV        0\n",
      "FX87211.P01        0\n",
      "FI87208.PV         0\n",
      "AIC88049.PV        0\n",
      "ZI88001.PV         0\n",
      "NIC88002.PV        0\n",
      "PIC88007.PV        0\n",
      "LIC88006.PV        0\n",
      "AIC88055.PV        0\n",
      "FIC88022.PV        0\n",
      "SI88033.PV         0\n",
      "SI88034.PV         0\n",
      "MQI88024.CPV       0\n",
      "timestamp          0\n",
      "dtype: int64\n",
      "total nulls: 0\n"
     ]
    }
   ],
   "source": [
    "#count NaN values in each column, then replace\n",
    "null_count = df_test.isnull().sum()\n",
    "print (\"null_count:\\n\", null_count)\n",
    "print (\"total nulls:\", null_count.sum())\n"
   ]
  },
  {
   "cell_type": "code",
   "execution_count": 20,
   "metadata": {},
   "outputs": [
    {
     "name": "stdout",
     "output_type": "stream",
     "text": [
      "output_file: D:/2017_working/unearthed/output/test_set_cleaned.csv\n"
     ]
    }
   ],
   "source": [
    "output_file = DATA_DIR+\"test_set_cleaned.csv\"\n",
    "print (\"output_file:\", output_file)\n",
    "df_test.to_csv(path_or_buf=output_file)\n"
   ]
  },
  {
   "cell_type": "code",
   "execution_count": 21,
   "metadata": {
    "collapsed": true
   },
   "outputs": [],
   "source": [
    "#now create new column with average over 5 minute blocks\n",
    "#first 5-1 minute blocks will be filled using forward five minute average otherwise algo will not generate."
   ]
  },
  {
   "cell_type": "code",
   "execution_count": 22,
   "metadata": {},
   "outputs": [
    {
     "name": "stdout",
     "output_type": "stream",
     "text": [
      "colname: WQI8100XCL1.CPV\n",
      "colname: XI84201.PV\n",
      "colname: XI84202.PV\n",
      "colname: XI84123.PV\n",
      "colname: XI84124.PV\n",
      "colname: XI84125.PV\n",
      "colname: FX87211.CPV1\n",
      "colname: FIC87211.PV\n",
      "colname: FIC87211.SV\n",
      "colname: FX87211.P01\n",
      "colname: FI87208.PV\n",
      "colname: AIC88049.PV\n",
      "colname: ZI88001.PV\n",
      "colname: NIC88002.PV\n",
      "colname: PIC88007.PV\n",
      "colname: LIC88006.PV\n",
      "colname: AIC88055.PV\n",
      "colname: FIC88022.PV\n",
      "colname: SI88033.PV\n",
      "colname: SI88034.PV\n",
      "colname: MQI88024.CPV\n",
      "colnames: ['WQI8100XCL1.CPV', 'XI84201.PV', 'XI84202.PV', 'XI84123.PV', 'XI84124.PV', 'XI84125.PV', 'FX87211.CPV1', 'FIC87211.PV', 'FIC87211.SV', 'FX87211.P01', 'FI87208.PV', 'AIC88049.PV', 'ZI88001.PV', 'NIC88002.PV', 'PIC88007.PV', 'LIC88006.PV', 'AIC88055.PV', 'FIC88022.PV', 'SI88033.PV', 'SI88034.PV', 'MQI88024.CPV', 'timestamp', 'WQI8100XCL1.CPV_5', 'XI84201.PV_5', 'XI84202.PV_5', 'XI84123.PV_5', 'XI84124.PV_5', 'XI84125.PV_5', 'FX87211.CPV1_5', 'FIC87211.PV_5', 'FIC87211.SV_5', 'FX87211.P01_5', 'FI87208.PV_5', 'AIC88049.PV_5', 'ZI88001.PV_5', 'NIC88002.PV_5', 'PIC88007.PV_5', 'LIC88006.PV_5', 'AIC88055.PV_5', 'FIC88022.PV_5', 'SI88033.PV_5', 'SI88034.PV_5', 'MQI88024.CPV_5']\n"
     ]
    }
   ],
   "source": [
    "#create new empty columns for averages.\n",
    "for colname in colnames[:-1]:\n",
    "    print (\"colname:\", colname)\n",
    "    df_test[colname+'_5'] = np.nan\n",
    "print (\"colnames:\", list(df_test))"
   ]
  },
  {
   "cell_type": "code",
   "execution_count": 23,
   "metadata": {},
   "outputs": [
    {
     "data": {
      "text/plain": [
       "(439140, 43)"
      ]
     },
     "execution_count": 23,
     "metadata": {},
     "output_type": "execute_result"
    }
   ],
   "source": [
    "df_test.shape"
   ]
  },
  {
   "cell_type": "code",
   "execution_count": 24,
   "metadata": {},
   "outputs": [
    {
     "data": {
      "text/plain": [
       "21"
      ]
     },
     "execution_count": 24,
     "metadata": {},
     "output_type": "execute_result"
    }
   ],
   "source": [
    "colnames.index(TIMESTAMP)"
   ]
  },
  {
   "cell_type": "code",
   "execution_count": 25,
   "metadata": {},
   "outputs": [
    {
     "data": {
      "text/plain": [
       "['WQI8100XCL1.CPV',\n",
       " 'XI84201.PV',\n",
       " 'XI84202.PV',\n",
       " 'XI84123.PV',\n",
       " 'XI84124.PV',\n",
       " 'XI84125.PV',\n",
       " 'FX87211.CPV1',\n",
       " 'FIC87211.PV',\n",
       " 'FIC87211.SV',\n",
       " 'FX87211.P01',\n",
       " 'FI87208.PV',\n",
       " 'AIC88049.PV',\n",
       " 'ZI88001.PV',\n",
       " 'NIC88002.PV',\n",
       " 'PIC88007.PV',\n",
       " 'LIC88006.PV',\n",
       " 'AIC88055.PV',\n",
       " 'FIC88022.PV',\n",
       " 'SI88033.PV',\n",
       " 'SI88034.PV',\n",
       " 'MQI88024.CPV']"
      ]
     },
     "execution_count": 25,
     "metadata": {},
     "output_type": "execute_result"
    }
   ],
   "source": [
    "colnames[0:colnames.index(TIMESTAMP)]"
   ]
  },
  {
   "cell_type": "code",
   "execution_count": 26,
   "metadata": {},
   "outputs": [
    {
     "name": "stdout",
     "output_type": "stream",
     "text": [
      "processing colname: WQI8100XCL1.CPV\n"
     ]
    },
    {
     "name": "stderr",
     "output_type": "stream",
     "text": [
      "D:\\DProgramFiles\\python3Anaconda\\lib\\site-packages\\pandas\\core\\indexing.py:194: SettingWithCopyWarning: \n",
      "A value is trying to be set on a copy of a slice from a DataFrame\n",
      "\n",
      "See the caveats in the documentation: http://pandas.pydata.org/pandas-docs/stable/indexing.html#indexing-view-versus-copy\n",
      "  self._setitem_with_indexer(indexer, value)\n"
     ]
    },
    {
     "name": "stdout",
     "output_type": "stream",
     "text": [
      "processing colname: XI84201.PV\n",
      "processing colname: XI84202.PV\n",
      "processing colname: XI84123.PV\n",
      "processing colname: XI84124.PV\n",
      "processing colname: XI84125.PV\n",
      "processing colname: FX87211.CPV1\n",
      "processing colname: FIC87211.PV\n",
      "processing colname: FIC87211.SV\n",
      "processing colname: FX87211.P01\n",
      "processing colname: FI87208.PV\n",
      "processing colname: AIC88049.PV\n",
      "processing colname: ZI88001.PV\n",
      "processing colname: NIC88002.PV\n",
      "processing colname: PIC88007.PV\n",
      "processing colname: LIC88006.PV\n",
      "processing colname: AIC88055.PV\n",
      "processing colname: FIC88022.PV\n",
      "processing colname: SI88033.PV\n",
      "processing colname: SI88034.PV\n",
      "processing colname: MQI88024.CPV\n",
      "time to average first  5  rows: 3.088268995285034\n"
     ]
    }
   ],
   "source": [
    "start = time.time()\n",
    "nrows = 5\n",
    "\n",
    "for colname in colnames[:colnames.index(TIMESTAMP)]:\n",
    "    print (\"processing colname:\", colname)\n",
    "    for i in range(0, nrows):\n",
    "        #print (\"at i = \", i, \"\\n\", df_test[colname].iloc[i])\n",
    "        avg_ = df_test[colname].iloc[i:i+nrows].mean()\n",
    "        #print (\"colname:\", colname, \"type(avg_):\", type(avg_), avg_)\n",
    "        df_test[colname+\"_5\"].iloc[i] = avg_\n",
    "\n",
    "end = time.time()\n",
    "print(\"time to average first \", nrows, \" rows:\", end - start)\n"
   ]
  },
  {
   "cell_type": "code",
   "execution_count": null,
   "metadata": {
    "collapsed": true
   },
   "outputs": [],
   "source": [
    "#TODO: check how to speed up next block. not performant.\n",
    "#possibly lambda function???"
   ]
  },
  {
   "cell_type": "code",
   "execution_count": null,
   "metadata": {
    "scrolled": true
   },
   "outputs": [
    {
     "name": "stdout",
     "output_type": "stream",
     "text": [
      "processing colname: WQI8100XCL1.CPV\n"
     ]
    },
    {
     "name": "stderr",
     "output_type": "stream",
     "text": [
      "D:\\DProgramFiles\\python3Anaconda\\lib\\site-packages\\pandas\\core\\indexing.py:194: SettingWithCopyWarning: \n",
      "A value is trying to be set on a copy of a slice from a DataFrame\n",
      "\n",
      "See the caveats in the documentation: http://pandas.pydata.org/pandas-docs/stable/indexing.html#indexing-view-versus-copy\n",
      "  self._setitem_with_indexer(indexer, value)\n"
     ]
    },
    {
     "name": "stdout",
     "output_type": "stream",
     "text": [
      "i: 1000 , elapsed time: 28.31411576271057\n",
      "i: 2000 , elapsed time: 64.76399278640747\n",
      "i: 3000 , elapsed time: 93.26177978515625\n",
      "i: 4000 , elapsed time: 126.2707109451294\n",
      "i: 5000 , elapsed time: 153.5442454814911\n",
      "i: 6000 , elapsed time: 180.47986793518066\n",
      "i: 7000 , elapsed time: 207.41249322891235\n",
      "i: 8000 , elapsed time: 235.60847854614258\n",
      "i: 9000 , elapsed time: 267.511536359787\n",
      "i: 10000 , elapsed time: 298.5911531448364\n",
      "i: 11000 , elapsed time: 334.05772280693054\n",
      "i: 12000 , elapsed time: 367.2577586174011\n",
      "i: 13000 , elapsed time: 403.4783413410187\n",
      "i: 14000 , elapsed time: 431.5377821922302\n",
      "i: 15000 , elapsed time: 461.7913854122162\n",
      "i: 16000 , elapsed time: 490.89760994911194\n",
      "i: 17000 , elapsed time: 519.1046214103699\n",
      "i: 18000 , elapsed time: 547.0620152950287\n",
      "i: 19000 , elapsed time: 575.2890801429749\n",
      "i: 20000 , elapsed time: 607.2349545955658\n",
      "i: 21000 , elapsed time: 639.8145968914032\n",
      "i: 22000 , elapsed time: 668.4593245983124\n",
      "i: 23000 , elapsed time: 699.5554258823395\n",
      "i: 24000 , elapsed time: 731.0405721664429\n",
      "i: 25000 , elapsed time: 764.4470911026001\n",
      "i: 26000 , elapsed time: 796.2539021968842\n",
      "i: 27000 , elapsed time: 825.3423430919647\n",
      "i: 28000 , elapsed time: 853.757061958313\n",
      "i: 29000 , elapsed time: 887.3721964359283\n",
      "i: 30000 , elapsed time: 917.2887852191925\n",
      "i: 31000 , elapsed time: 944.3904478549957\n",
      "i: 32000 , elapsed time: 972.1711781024933\n",
      "i: 33000 , elapsed time: 998.2095370292664\n",
      "i: 34000 , elapsed time: 1029.1707737445831\n",
      "i: 35000 , elapsed time: 1057.5784459114075\n",
      "i: 36000 , elapsed time: 1084.9354648590088\n",
      "i: 37000 , elapsed time: 1112.3952176570892\n",
      "i: 38000 , elapsed time: 1139.6564676761627\n",
      "i: 39000 , elapsed time: 1167.4235966205597\n",
      "i: 40000 , elapsed time: 1197.35649228096\n",
      "i: 41000 , elapsed time: 1225.4457199573517\n",
      "i: 42000 , elapsed time: 1252.8279197216034\n",
      "i: 43000 , elapsed time: 1282.6583559513092\n",
      "i: 44000 , elapsed time: 1312.1227786540985\n",
      "i: 45000 , elapsed time: 1341.56911110878\n",
      "i: 46000 , elapsed time: 1371.734207391739\n",
      "i: 47000 , elapsed time: 1399.0992994308472\n",
      "i: 48000 , elapsed time: 1430.4170713424683\n",
      "i: 49000 , elapsed time: 1460.0051112174988\n",
      "i: 50000 , elapsed time: 1492.7298095226288\n",
      "i: 51000 , elapsed time: 1520.122272491455\n",
      "i: 52000 , elapsed time: 1546.9276807308197\n",
      "i: 53000 , elapsed time: 1574.6432914733887\n",
      "i: 54000 , elapsed time: 1602.3413031101227\n",
      "i: 55000 , elapsed time: 1629.9682037830353\n",
      "i: 56000 , elapsed time: 1657.7163333892822\n",
      "i: 57000 , elapsed time: 1685.3433456420898\n",
      "i: 58000 , elapsed time: 1712.7216782569885\n",
      "i: 59000 , elapsed time: 1740.2118735313416\n",
      "i: 60000 , elapsed time: 1767.8298954963684\n",
      "i: 61000 , elapsed time: 1795.5404393672943\n",
      "i: 62000 , elapsed time: 1823.0659182071686\n",
      "i: 63000 , elapsed time: 1850.6748144626617\n",
      "i: 64000 , elapsed time: 1878.2565505504608\n",
      "i: 65000 , elapsed time: 1905.8630719184875\n",
      "i: 66000 , elapsed time: 1933.5353348255157\n",
      "i: 67000 , elapsed time: 1961.0420968532562\n",
      "i: 68000 , elapsed time: 1988.6713457107544\n",
      "i: 69000 , elapsed time: 2016.2711915969849\n",
      "i: 70000 , elapsed time: 2043.2503082752228\n",
      "i: 71000 , elapsed time: 2070.671597480774\n",
      "i: 72000 , elapsed time: 2098.5215723514557\n",
      "i: 73000 , elapsed time: 2125.7701592445374\n",
      "i: 74000 , elapsed time: 2153.02676653862\n",
      "i: 75000 , elapsed time: 2181.787771463394\n",
      "i: 76000 , elapsed time: 2210.586253643036\n",
      "i: 77000 , elapsed time: 2238.164557695389\n",
      "i: 78000 , elapsed time: 2264.0977489948273\n",
      "i: 79000 , elapsed time: 2293.667356967926\n",
      "i: 80000 , elapsed time: 2328.0689120292664\n",
      "i: 81000 , elapsed time: 2356.5788593292236\n",
      "i: 82000 , elapsed time: 2384.8805000782013\n",
      "i: 83000 , elapsed time: 2413.6245906352997\n",
      "i: 84000 , elapsed time: 2443.5565164089203\n",
      "i: 85000 , elapsed time: 2473.2616527080536\n",
      "i: 86000 , elapsed time: 2504.366819858551\n",
      "i: 87000 , elapsed time: 2531.9854838848114\n",
      "i: 88000 , elapsed time: 2558.8621275424957\n",
      "i: 89000 , elapsed time: 2587.1280517578125\n",
      "i: 90000 , elapsed time: 2613.6244394779205\n",
      "i: 91000 , elapsed time: 2639.671210050583\n",
      "i: 92000 , elapsed time: 2670.8859570026398\n",
      "i: 93000 , elapsed time: 2699.7037348747253\n",
      "i: 94000 , elapsed time: 2734.1479444503784\n",
      "i: 95000 , elapsed time: 2763.411105155945\n",
      "i: 96000 , elapsed time: 2790.8872010707855\n",
      "i: 97000 , elapsed time: 2818.0377135276794\n",
      "i: 98000 , elapsed time: 2843.9741773605347\n",
      "i: 99000 , elapsed time: 2870.200911283493\n",
      "i: 100000 , elapsed time: 2902.0596017837524\n",
      "i: 101000 , elapsed time: 2930.144369125366\n",
      "i: 102000 , elapsed time: 2963.5882098674774\n",
      "i: 103000 , elapsed time: 2999.153089284897\n",
      "i: 104000 , elapsed time: 3029.788495540619\n",
      "i: 105000 , elapsed time: 3060.060291290283\n",
      "i: 106000 , elapsed time: 3088.9560618400574\n",
      "i: 107000 , elapsed time: 3121.1643080711365\n",
      "i: 108000 , elapsed time: 3150.367965698242\n",
      "i: 109000 , elapsed time: 3177.367522716522\n",
      "i: 110000 , elapsed time: 3203.145653486252\n",
      "i: 111000 , elapsed time: 3229.043541431427\n",
      "i: 112000 , elapsed time: 3254.8706064224243\n",
      "i: 113000 , elapsed time: 3280.5621616840363\n",
      "i: 114000 , elapsed time: 3306.3505551815033\n",
      "i: 115000 , elapsed time: 3332.0670783519745\n",
      "i: 116000 , elapsed time: 3357.7339420318604\n",
      "i: 117000 , elapsed time: 3383.452069044113\n",
      "i: 118000 , elapsed time: 3409.8989613056183\n",
      "i: 119000 , elapsed time: 3435.417167186737\n",
      "i: 120000 , elapsed time: 3460.993135213852\n",
      "i: 121000 , elapsed time: 3486.3753390312195\n",
      "i: 122000 , elapsed time: 3511.46373462677\n",
      "i: 123000 , elapsed time: 3537.9138357639313\n",
      "i: 124000 , elapsed time: 3564.735055208206\n",
      "i: 125000 , elapsed time: 3591.5774812698364\n",
      "i: 126000 , elapsed time: 3618.2155945301056\n",
      "i: 127000 , elapsed time: 3645.1321053504944\n",
      "i: 128000 , elapsed time: 3671.880836248398\n",
      "i: 129000 , elapsed time: 3698.593194246292\n",
      "i: 130000 , elapsed time: 3725.2985084056854\n",
      "i: 131000 , elapsed time: 3752.2505888938904\n",
      "i: 132000 , elapsed time: 3778.9906928539276\n",
      "i: 133000 , elapsed time: 3805.7036974430084\n",
      "i: 134000 , elapsed time: 3831.8187940120697\n",
      "i: 135000 , elapsed time: 3858.8355996608734\n",
      "i: 136000 , elapsed time: 3885.734172105789\n",
      "i: 137000 , elapsed time: 3913.266489982605\n",
      "i: 138000 , elapsed time: 3939.077367067337\n",
      "i: 139000 , elapsed time: 3970.74808716774\n",
      "i: 140000 , elapsed time: 3996.672706604004\n",
      "i: 141000 , elapsed time: 4022.5423634052277\n",
      "i: 142000 , elapsed time: 4053.6027796268463\n",
      "i: 143000 , elapsed time: 4085.7863314151764\n",
      "i: 144000 , elapsed time: 4113.441478729248\n",
      "i: 145000 , elapsed time: 4142.312520027161\n",
      "i: 146000 , elapsed time: 4170.838352441788\n",
      "i: 147000 , elapsed time: 4201.423382282257\n",
      "i: 148000 , elapsed time: 4230.703299045563\n",
      "i: 149000 , elapsed time: 4257.527801036835\n",
      "i: 150000 , elapsed time: 4285.350908279419\n",
      "i: 151000 , elapsed time: 4311.781742334366\n",
      "i: 152000 , elapsed time: 4338.672849416733\n",
      "i: 153000 , elapsed time: 4366.042001008987\n",
      "i: 154000 , elapsed time: 4393.640563488007\n",
      "i: 155000 , elapsed time: 4421.319165945053\n",
      "i: 156000 , elapsed time: 4447.818601608276\n",
      "i: 157000 , elapsed time: 4473.593381404877\n",
      "i: 158000 , elapsed time: 4499.436797857285\n",
      "i: 159000 , elapsed time: 4525.0626745224\n",
      "i: 160000 , elapsed time: 4550.963263511658\n",
      "i: 161000 , elapsed time: 4576.594020843506\n",
      "i: 162000 , elapsed time: 4602.197705984116\n",
      "i: 163000 , elapsed time: 4627.853775262833\n",
      "i: 164000 , elapsed time: 4653.899296283722\n",
      "i: 165000 , elapsed time: 4683.06532740593\n",
      "i: 166000 , elapsed time: 4711.243291139603\n",
      "i: 167000 , elapsed time: 4739.51273226738\n",
      "i: 168000 , elapsed time: 4770.547985076904\n",
      "i: 169000 , elapsed time: 4802.236929178238\n",
      "i: 170000 , elapsed time: 4830.400461196899\n",
      "i: 171000 , elapsed time: 4857.749849081039\n",
      "i: 172000 , elapsed time: 4885.189924240112\n",
      "i: 173000 , elapsed time: 4912.851395845413\n",
      "i: 174000 , elapsed time: 4942.126143217087\n",
      "i: 175000 , elapsed time: 4972.672694444656\n",
      "i: 176000 , elapsed time: 4998.547212123871\n",
      "i: 177000 , elapsed time: 5024.400481462479\n",
      "i: 178000 , elapsed time: 5054.41952085495\n",
      "i: 179000 , elapsed time: 5091.926555395126\n",
      "i: 180000 , elapsed time: 5122.519772052765\n",
      "i: 181000 , elapsed time: 5151.294335126877\n",
      "i: 182000 , elapsed time: 5182.58337187767\n",
      "i: 183000 , elapsed time: 5213.525857925415\n",
      "i: 184000 , elapsed time: 5248.243389844894\n",
      "i: 185000 , elapsed time: 5274.136159658432\n",
      "i: 186000 , elapsed time: 5305.433888435364\n",
      "i: 187000 , elapsed time: 5342.919965744019\n",
      "i: 188000 , elapsed time: 5373.714650154114\n"
     ]
    },
    {
     "name": "stdout",
     "output_type": "stream",
     "text": [
      "i: 189000 , elapsed time: 5405.853308677673\n",
      "i: 190000 , elapsed time: 5434.393233299255\n",
      "i: 191000 , elapsed time: 5464.031013727188\n",
      "i: 192000 , elapsed time: 5493.154597520828\n",
      "i: 193000 , elapsed time: 5522.0410878658295\n",
      "i: 194000 , elapsed time: 5550.528418302536\n",
      "i: 195000 , elapsed time: 5577.8983108997345\n",
      "i: 196000 , elapsed time: 5605.006394863129\n",
      "i: 197000 , elapsed time: 5631.819527387619\n",
      "i: 198000 , elapsed time: 5658.614940643311\n",
      "i: 199000 , elapsed time: 5685.465240716934\n",
      "i: 200000 , elapsed time: 5712.620445251465\n",
      "i: 201000 , elapsed time: 5740.870975017548\n",
      "i: 202000 , elapsed time: 5768.9306626319885\n",
      "i: 203000 , elapsed time: 5797.365929841995\n",
      "i: 204000 , elapsed time: 5824.992028713226\n",
      "i: 205000 , elapsed time: 5854.434045314789\n",
      "i: 206000 , elapsed time: 5880.934990644455\n",
      "i: 207000 , elapsed time: 5906.956240415573\n",
      "i: 208000 , elapsed time: 5932.991263628006\n",
      "i: 209000 , elapsed time: 5958.7665638923645\n",
      "i: 210000 , elapsed time: 5984.386301755905\n",
      "i: 211000 , elapsed time: 6012.26815366745\n",
      "i: 212000 , elapsed time: 6039.595805644989\n",
      "i: 213000 , elapsed time: 6067.272161245346\n",
      "i: 214000 , elapsed time: 6094.573643684387\n",
      "i: 215000 , elapsed time: 6121.766489267349\n",
      "i: 216000 , elapsed time: 6149.647901773453\n",
      "i: 217000 , elapsed time: 6177.705135822296\n",
      "i: 218000 , elapsed time: 6205.1937046051025\n",
      "i: 219000 , elapsed time: 6236.745088815689\n",
      "i: 220000 , elapsed time: 6264.802356719971\n",
      "i: 221000 , elapsed time: 6292.156522512436\n",
      "i: 222000 , elapsed time: 6319.570424079895\n",
      "i: 223000 , elapsed time: 6346.34675693512\n",
      "i: 224000 , elapsed time: 6375.398865222931\n",
      "i: 225000 , elapsed time: 6406.6349358558655\n",
      "i: 226000 , elapsed time: 6434.373409748077\n",
      "i: 227000 , elapsed time: 6462.11382484436\n",
      "i: 228000 , elapsed time: 6489.348849058151\n",
      "i: 229000 , elapsed time: 6520.378583908081\n",
      "i: 230000 , elapsed time: 6547.623548030853\n",
      "i: 231000 , elapsed time: 6576.431492090225\n",
      "i: 232000 , elapsed time: 6602.129526615143\n",
      "i: 233000 , elapsed time: 6628.1043791770935\n",
      "i: 234000 , elapsed time: 6654.069758415222\n",
      "i: 235000 , elapsed time: 6679.688517332077\n",
      "i: 236000 , elapsed time: 6707.241603136063\n",
      "i: 237000 , elapsed time: 6734.850138664246\n",
      "i: 238000 , elapsed time: 6761.944867134094\n",
      "i: 239000 , elapsed time: 6788.778896331787\n",
      "i: 240000 , elapsed time: 6816.869723081589\n",
      "i: 241000 , elapsed time: 6844.910118103027\n",
      "i: 242000 , elapsed time: 6871.89782166481\n",
      "i: 243000 , elapsed time: 6899.11710357666\n",
      "i: 244000 , elapsed time: 6926.620235681534\n",
      "i: 245000 , elapsed time: 6953.656506061554\n",
      "i: 246000 , elapsed time: 6981.130171775818\n",
      "i: 247000 , elapsed time: 7008.967320680618\n",
      "i: 248000 , elapsed time: 7036.268647670746\n",
      "i: 249000 , elapsed time: 7064.851002454758\n",
      "i: 250000 , elapsed time: 7091.532814502716\n",
      "i: 251000 , elapsed time: 7120.613107442856\n",
      "i: 252000 , elapsed time: 7147.96733212471\n",
      "i: 253000 , elapsed time: 7176.420739412308\n",
      "i: 254000 , elapsed time: 7203.959566354752\n",
      "i: 255000 , elapsed time: 7231.555981636047\n",
      "i: 256000 , elapsed time: 7258.315382242203\n",
      "i: 257000 , elapsed time: 7285.387695789337\n",
      "i: 258000 , elapsed time: 7311.168940782547\n",
      "i: 259000 , elapsed time: 7336.656774282455\n",
      "i: 260000 , elapsed time: 7362.467269659042\n",
      "i: 261000 , elapsed time: 7388.079314231873\n",
      "i: 262000 , elapsed time: 7413.67262840271\n",
      "i: 263000 , elapsed time: 7439.367493867874\n",
      "i: 264000 , elapsed time: 7465.503283023834\n",
      "i: 265000 , elapsed time: 7495.879915237427\n",
      "i: 266000 , elapsed time: 7524.746477127075\n",
      "i: 267000 , elapsed time: 7551.35603427887\n",
      "i: 268000 , elapsed time: 7577.1580286026\n",
      "i: 269000 , elapsed time: 7603.525510549545\n",
      "i: 270000 , elapsed time: 7629.5608949661255\n",
      "i: 271000 , elapsed time: 7655.268168210983\n",
      "i: 272000 , elapsed time: 7680.928603410721\n",
      "i: 273000 , elapsed time: 7711.946167945862\n",
      "i: 274000 , elapsed time: 7740.9613609313965\n",
      "i: 275000 , elapsed time: 7767.735513687134\n",
      "i: 276000 , elapsed time: 7793.735014677048\n",
      "i: 277000 , elapsed time: 7819.688005208969\n",
      "i: 278000 , elapsed time: 7848.513024806976\n"
     ]
    }
   ],
   "source": [
    "start = time.time()\n",
    "\n",
    "for colname in colnames[:colnames.index(TIMESTAMP)]:\n",
    "    start2 = time.time()\n",
    "\n",
    "    print (\"processing colname:\", colname)\n",
    "    for i in range(nrows, df_test.shape[0]):\n",
    "        #print (\"at i = \", i, \"\\n\", df_test.iloc[i])\n",
    "        avg_ = df_test[colname].iloc[i-nrows+1:i+1].mean()\n",
    "        #print (\"type(avg_):\", type(avg_))\n",
    "        df_test[colname+\"_5\"].iloc[i] = avg_\n",
    "        #if i==100: break  \n",
    "        if i%1000==0: \n",
    "            print (\"i:\", i, \", elapsed time:\", time.time()-start2)\n",
    "    end2 = time.time()\n",
    "    print(\"time to average:\", end2 - start2)\n",
    "\n",
    "end = time.time()\n",
    "print(\"time to average first \", nrows, \" rows:\", end - start)\n"
   ]
  },
  {
   "cell_type": "code",
   "execution_count": null,
   "metadata": {
    "collapsed": true
   },
   "outputs": [],
   "source": [
    "df_test.head(6)"
   ]
  },
  {
   "cell_type": "code",
   "execution_count": null,
   "metadata": {
    "collapsed": true
   },
   "outputs": [],
   "source": [
    "df_test.head(110)"
   ]
  },
  {
   "cell_type": "code",
   "execution_count": null,
   "metadata": {
    "collapsed": true
   },
   "outputs": [],
   "source": [
    "output_file = DATA_DIR+\"test_set_cleaned_norm_5.csv\"\n",
    "print (\"output_file:\", output_file)\n",
    "df_test.to_csv(path_or_buf=output_file)\n"
   ]
  }
 ],
 "metadata": {
  "kernelspec": {
   "display_name": "Python 3",
   "language": "python",
   "name": "python3"
  },
  "language_info": {
   "codemirror_mode": {
    "name": "ipython",
    "version": 3
   },
   "file_extension": ".py",
   "mimetype": "text/x-python",
   "name": "python",
   "nbconvert_exporter": "python",
   "pygments_lexer": "ipython3",
   "version": "3.6.1"
  }
 },
 "nbformat": 4,
 "nbformat_minor": 2
}
